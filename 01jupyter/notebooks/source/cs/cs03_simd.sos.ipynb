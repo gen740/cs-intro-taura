{
  "cells": [
    {
      "cell_type": "markdown",
      "metadata": {
        "kernel": "SoS",
        "nbgrader": {
          "grade": false,
          "grade_id": "c-001",
          "locked": true,
          "schema_version": 3,
          "solution": false,
          "task": false
        }
      },
      "source": [
        "\n",
        "#  高性能プログラミングと性能測定(3) --- SIMDプログラミング",
        ""
      ]
    },
    {
      "cell_type": "markdown",
      "metadata": {
        "kernel": "SoS",
        "nbgrader": {
          "grade": false,
          "grade_id": "c-002",
          "locked": true,
          "schema_version": 3,
          "solution": false,
          "task": false
        }
      },
      "source": [
        "\n",
        "# 1. 概要",
        "\n",
        "* ベクタ型と(必要ならば)intrinsicsを使って, 確実にSIMD化する手法を学ぶ\n",
        "* コンパイラの-Sオプションで実際にSIMD化出来ていることを確かめる\n",
        "* そのもとで性能を計測する\n",
        ""
      ]
    },
    {
      "cell_type": "markdown",
      "metadata": {
        "kernel": "SoS",
        "nbgrader": {
          "grade": false,
          "grade_id": "c-003",
          "locked": true,
          "schema_version": 3,
          "solution": false,
          "task": false
        }
      },
      "source": [
        "\n",
        "# 2. SIMD化が(容易に)可能なコード",
        "\n",
        " * SIMDはSingle Instruction Multiple Dataの略\n",
        " * SIMD命令は, ひとつの命令で複数 (Oakbridge CXのCPU (Cascade Lake)ではfloat, intなど32 bitの要素であれば16個, double, longなど64 bitの要素であれば8個)の要素に対する演算を施す命令\n",
        " * したがってSIMD化できるための前提条件は, 複数データに「同じ演算を施す」ということ\n",
        " * それもそのような演算がある程度の数連続して行わるようでないと, SIMD命令を施すためのデータの配置(SIMDレジスタへ格納するなど)のオーバーヘッドがすぐに大きくなってしまう\n",
        " * したがって, SIMD化出来るコードの近似としては, 「単純なループであって, ループ本体(繰り返しの一回分)は, ほとんど同じ動作をするもの」と理解しておけば良い\n",
        ""
      ]
    },
    {
      "cell_type": "markdown",
      "metadata": {
        "kernel": "SoS",
        "nbgrader": {
          "grade": false,
          "grade_id": "c-004",
          "locked": true,
          "schema_version": 3,
          "solution": false,
          "task": false
        }
      },
      "source": [
        "\n",
        "# 3. SIMD化が(容易に)可能なコード",
        "\n",
        " * 以下の積分計算\n",
        "\n",
        "$$ \\int_a^b x^2\\, dx $$\n",
        "\n",
        "のSIMD化を試みる. いわゆる区分求積法を用いた積分の計算.\n",
        "\n",
        " * 答えがわかりきっていてやる気がおきないかもしれないがSIMDを説明するのに最も単純な例ということで勘弁していただきたい.\n",
        " * まずは通常の(SIMD化されていない)コード\n",
        " "
      ]
    },
    {
      "cell_type": "code",
      "metadata": {
        "kernel": "Python 3 (ipykernel)",
        "nbgrader": {
          "grade": false,
          "grade_id": "c-005",
          "locked": false,
          "schema_version": 3,
          "solution": false,
          "task": false
        }
      },
      "source": [
        "%%writefile int_x2.c\n",
        "#include <stdio.h>\n",
        "#include <stdlib.h>\n",
        "\n",
        "double int_x2(double a, double b, long n) {\n",
        "  double s = 0.0;\n",
        "  double x = a;\n",
        "  double dx = (b - a) / (double)n;\n",
        "  for (long i = 0; i < n; i++) {\n",
        "    s += x * x;\n",
        "    x += dx;\n",
        "  }\n",
        "  return s * dx;\n",
        "}\n",
        "\n",
        "int main(int argc, char ** argv) {\n",
        "  double a = (argc > 1 ? atof(argv[1]) : 0.0);\n",
        "  double b = (argc > 2 ? atof(argv[2]) : 1.0);\n",
        "  long n   = (argc > 3 ? atof(argv[3]) : 1000L * 1000L * 1000L);\n",
        "  double s = int_x2(a, b, n);\n",
        "  printf(\"s = %f\\n\", s);\n",
        "  return 0;\n",
        "}"
      ],
      "execution_count": null,
      "outputs": []
    },
    {
      "cell_type": "code",
      "metadata": {
        "kernel": "Bash",
        "nbgrader": {
          "grade": false,
          "grade_id": "c-006",
          "locked": false,
          "schema_version": 3,
          "solution": false,
          "task": false
        }
      },
      "source": [
        "gcc -O3 -march=native int_x2.c -o int_x2"
      ],
      "execution_count": null,
      "outputs": []
    },
    {
      "cell_type": "code",
      "metadata": {
        "kernel": "Bash",
        "nbgrader": {
          "grade": false,
          "grade_id": "c-007",
          "locked": false,
          "schema_version": 3,
          "solution": false,
          "task": false
        }
      },
      "source": [
        "./int_x2"
      ],
      "execution_count": null,
      "outputs": []
    },
    {
      "cell_type": "markdown",
      "metadata": {
        "kernel": "SoS",
        "nbgrader": {
          "grade": false,
          "grade_id": "c-008",
          "locked": true,
          "schema_version": 3,
          "solution": false,
          "task": false
        }
      },
      "source": [
        "\n",
        " * このコードでもっとも時間がかかるのは明らかに以下のループ(それ以外ほとんど何もしていないのだから当然. ちゃんと確かめたければ実行時間がnにほぼ比例していることを確かめれば良い)\n",
        "\n",
        "```\n",
        "  for (long i = 0; i < n; i++) {\n",
        "    s += x * x;\n",
        "    x += dx;\n",
        "  }\n",
        "```\n",
        "\n",
        " * SIMD化の目標はこのループの複数(Cascade Lakeでは8つ)の繰り返しを同時に処理することである\n",
        "\n",
        " * そう思ってループの繰り返し本体を眺めると, 基本的にどの繰り返しでも同じ動作をしていて, 違いはxに入っている値が違うだけとわかる\n",
        "\n",
        " * 擬似的に書けば以下のような処理をすれば, 4回分まとめて処理(SIMD化)ができそうとわかる\n",
        "\n",
        "```\n",
        "  // 連続する8回の繰り返しをまとめて処理\n",
        "  for (long i = 0; i < n; i += 4) {\n",
        "    s += { x, x+dx, x+2*dx, ..., x+7*dx } * { x, x+dx, x+2*dx, ..., x+7*dx };\n",
        "    x += 8 * dx;\n",
        "  }\n",
        "```\n",
        " * なお, nは8で割り切れると仮定する(割り切れない場合は, 端数部分を別途処理する必要があるが普通は近くの8の倍数に切り上げてしまえば計算の目的は達成できるのでここでは気にしないことにする).\n",
        "\n",
        " * きちんと動くコードにしたものが以下\n",
        ""
      ]
    },
    {
      "cell_type": "code",
      "metadata": {
        "kernel": "Python 3 (ipykernel)",
        "nbgrader": {
          "grade": false,
          "grade_id": "c-009",
          "locked": false,
          "schema_version": 3,
          "solution": false,
          "task": false
        }
      },
      "source": [
        "%%writefile int_x2_simd.c\n",
        "#include <stdio.h>\n",
        "#include <stdlib.h>\n",
        "\n",
        "/* doubleを8つ並べたデータ型(doublev) */\n",
        "typedef double doublev __attribute__((vector_size(64),aligned(sizeof(double))));\n",
        "enum { n_lanes = sizeof(doublev) / sizeof(double) };\n",
        "\n",
        "double int_x2_simd(double a, double b, long n) {\n",
        "  doublev s = {0,0,0,0,0,0,0,0};\n",
        "  // n をレーン数の倍数に\n",
        "  n += n_lanes - 1;\n",
        "  n -= n % n_lanes;\n",
        "  double dx = (b - a) / (double)n;\n",
        "  doublev x = {a,a+dx,a+2*dx,a+3*dx,a+4*dx,a+5*dx,a+6*dx,a+7*dx};\n",
        "  for (long i = 0; i < n; i += n_lanes) {\n",
        "    s += x * x;\n",
        "    x += n_lanes * dx;\n",
        "  }\n",
        "  return (s[0] + s[1] + s[2] + s[3] + s[4] + s[5] + s[6] + s[7]) * dx;\n",
        "}\n",
        "\n",
        "int main(int argc, char ** argv) {\n",
        "  double a = (argc > 1 ? atof(argv[1]) : 0.0);\n",
        "  double b = (argc > 2 ? atof(argv[2]) : 1.0);\n",
        "  long n   = (argc > 3 ? atof(argv[3]) : 1000L * 1000L * 1000L);\n",
        "  double s = int_x2_simd(a, b, n);\n",
        "  printf(\"s = %f\\n\", s);\n",
        "  return 0;\n",
        "}"
      ],
      "execution_count": null,
      "outputs": []
    },
    {
      "cell_type": "code",
      "metadata": {
        "kernel": "Bash",
        "nbgrader": {
          "grade": false,
          "grade_id": "c-010",
          "locked": false,
          "schema_version": 3,
          "solution": false,
          "task": false
        }
      },
      "source": [
        "gcc -O3 -march=native int_x2_simd.c -o int_x2_simd"
      ],
      "execution_count": null,
      "outputs": []
    },
    {
      "cell_type": "code",
      "metadata": {
        "kernel": "Bash",
        "nbgrader": {
          "grade": false,
          "grade_id": "c-011",
          "locked": false,
          "schema_version": 3,
          "solution": false,
          "task": false
        }
      },
      "source": [
        "./int_x2_simd"
      ],
      "execution_count": null,
      "outputs": []
    },
    {
      "cell_type": "markdown",
      "metadata": {
        "kernel": "SoS",
        "nbgrader": {
          "grade": false,
          "grade_id": "c-012",
          "locked": true,
          "schema_version": 3,
          "solution": false,
          "task": false
        }
      },
      "source": [
        "## 3-1. timeコマンドでお手軽に経過時間比較"
      ]
    },
    {
      "cell_type": "code",
      "metadata": {
        "kernel": "Bash",
        "nbgrader": {
          "grade": false,
          "grade_id": "c-013",
          "locked": false,
          "schema_version": 3,
          "solution": false,
          "task": false
        }
      },
      "source": [
        "time ./int_x2"
      ],
      "execution_count": null,
      "outputs": []
    },
    {
      "cell_type": "code",
      "metadata": {
        "kernel": "Bash",
        "nbgrader": {
          "grade": false,
          "grade_id": "c-014",
          "locked": false,
          "schema_version": 3,
          "solution": false,
          "task": false
        }
      },
      "source": [
        "time ./int_x2_simd"
      ],
      "execution_count": null,
      "outputs": []
    },
    {
      "cell_type": "markdown",
      "metadata": {
        "kernel": "SoS",
        "nbgrader": {
          "grade": false,
          "grade_id": "c-015",
          "locked": true,
          "schema_version": 3,
          "solution": false,
          "task": false
        }
      },
      "source": [
        "* int_x2 と int_simd の実行時間を比べてみよ\n",
        "* より確信を深めるために命令数を測ってみる\n",
        "* 以下がそのためのコマンドであるがOakbridge CX上でないと結果は得られない"
      ]
    },
    {
      "cell_type": "markdown",
      "metadata": {
        "kernel": "SoS",
        "nbgrader": {
          "grade": false,
          "grade_id": "c-016",
          "locked": true,
          "schema_version": 3,
          "solution": false,
          "task": false
        }
      },
      "source": [
        "<font color=\"blue\">on Oakbridge CX</font> "
      ]
    },
    {
      "cell_type": "code",
      "metadata": {
        "kernel": "Bash",
        "nbgrader": {
          "grade": false,
          "grade_id": "c-017",
          "locked": false,
          "schema_version": 3,
          "solution": false,
          "task": false
        }
      },
      "source": [
        "perf stat ./int_x2"
      ],
      "execution_count": null,
      "outputs": []
    },
    {
      "cell_type": "markdown",
      "metadata": {
        "kernel": "SoS",
        "nbgrader": {
          "grade": false,
          "grade_id": "c-018",
          "locked": true,
          "schema_version": 3,
          "solution": false,
          "task": false
        }
      },
      "source": [
        "<font color=\"blue\">on Oakbridge CX</font> "
      ]
    },
    {
      "cell_type": "code",
      "metadata": {
        "kernel": "Bash",
        "nbgrader": {
          "grade": false,
          "grade_id": "c-019",
          "locked": false,
          "schema_version": 3,
          "solution": false,
          "task": false
        }
      },
      "source": [
        "perf stat ./int_x2_simd"
      ],
      "execution_count": null,
      "outputs": []
    },
    {
      "cell_type": "markdown",
      "metadata": {
        "kernel": "SoS",
        "nbgrader": {
          "grade": false,
          "grade_id": "c-020",
          "locked": true,
          "schema_version": 3,
          "solution": false,
          "task": false
        }
      },
      "source": [
        "* 実行命令数が, ほぼぴったり n (= 1000,000,000) の5倍, int_x2_simdではそれがほぼその 1/8 となっていることから, SIMD化はできていると判断できる\n",
        ""
      ]
    },
    {
      "cell_type": "markdown",
      "metadata": {
        "kernel": "SoS",
        "nbgrader": {
          "grade": false,
          "grade_id": "c-021",
          "locked": true,
          "schema_version": 3,
          "solution": false,
          "task": false
        }
      },
      "source": [
        "\n",
        "* 生成されたアセンブリ言語を見てみよう\n",
        "* 結果を短くするため, 肝心の関数だけを単体でコンパイルする\n",
        ""
      ]
    },
    {
      "cell_type": "code",
      "metadata": {
        "kernel": "Python 3 (ipykernel)",
        "nbgrader": {
          "grade": false,
          "grade_id": "c-022",
          "locked": false,
          "schema_version": 3,
          "solution": false,
          "task": false
        }
      },
      "source": [
        "%%writefile int_x2_simd_s.c\n",
        "/* doubleを8つ並べたデータ型(doublev) */\n",
        "typedef double doublev __attribute__((vector_size(64),aligned(sizeof(double))));\n",
        "enum { n_lanes = sizeof(doublev) / sizeof(double) };\n",
        "\n",
        "double int_x2_simd(double a, double b, long n) {\n",
        "  doublev s = {0,0,0,0,0,0,0,0};\n",
        "  // n をレーン数の倍数に\n",
        "  n += n_lanes - 1;\n",
        "  n -= n % n_lanes;\n",
        "  double dx = (b - a) / (double)n;\n",
        "  doublev x = {a,a+dx,a+2*dx,a+3*dx,a+4*dx,a+5*dx,a+6*dx,a+7*dx};\n",
        "  for (long i = 0; i < n; i += n_lanes) {\n",
        "    s += x * x;\n",
        "    x += n_lanes * dx;\n",
        "  }\n",
        "  return (s[0] + s[1] + s[2] + s[3] + s[4] + s[5] + s[6] + s[7]) * dx;\n",
        "}"
      ],
      "execution_count": null,
      "outputs": []
    },
    {
      "cell_type": "code",
      "metadata": {
        "kernel": "Bash",
        "nbgrader": {
          "grade": false,
          "grade_id": "c-023",
          "locked": false,
          "schema_version": 3,
          "solution": false,
          "task": false
        }
      },
      "source": [
        "gcc -O3 -march=native int_x2_simd.c -S\n",
        "cat int_x2_simd.s"
      ],
      "execution_count": null,
      "outputs": []
    },
    {
      "cell_type": "markdown",
      "metadata": {
        "kernel": "SoS",
        "nbgrader": {
          "grade": false,
          "grade_id": "c-024",
          "locked": true,
          "schema_version": 3,
          "solution": false,
          "task": false
        }
      },
      "source": [
        "\n",
        "* 繰り返されている部分は以下\n",
        "\n",
        "```\n",
        ".L3:\n",
        "        addq    $8, %rdx\n",
        "        vfmadd231pd     %zmm2, %zmm2, %zmm3\n",
        "        vaddpd  %zmm0, %zmm2, %zmm2\n",
        "        cmpq    %rax, %rdx\n",
        "        jne     .L3\n",
        "```\n",
        "\n",
        "* 繰り返し1回あたりの命令数が5であると確認できた\n",
        ""
      ]
    },
    {
      "cell_type": "markdown",
      "metadata": {
        "kernel": "SoS",
        "nbgrader": {
          "grade": false,
          "grade_id": "c-025",
          "locked": true,
          "schema_version": 3,
          "solution": false,
          "task": false
        }
      },
      "source": [
        "\n",
        "* cycles 数は, nのほぼ4倍で, それはこの繰り返しが一回あたり 4 cyclesかかることを示している\n",
        "* それはなぜか? \n",
        " * 答えは, s += x * x; (s = x * x + s)に対応する命令である, vfmaddpd の遅延が4だからである\n",
        " * このvfmaddpd 命令は, ある繰り返しで計算されてsに格納された結果を次の繰り返しで使っている(依存関係がある)ので, 4 cycles/命令 のペースでしか実行できない\n",
        "* 今は天下り的に vfmaddpd に注目したが, もう少しきちんとした考察は同様のことをすべての命令に対して行い, 依存関係を元に, 一周するのにかかる時間を計算することである. \n",
        "* x += 8 * dx (x = x + 8 * dx) に対して生成された vaddpd 命令(8 * dx の掛け算はループ内で行う必要がないのでループの外側で一度だけ8 * dxが計算されている. そのためループ内での掛け算は必要なくなり, 足し算だけになっている)間でも, 依存関係が生じている. その遅延は3である. したがってループ全体の1周あたりの遅延は5となる\n",
        "* なお鋭い人はなぜ 5 + 3 = 8 とならず, 5 になるのかと思うかも知れない\n",
        "* その理由は, s = x * x + s の計算と, x = x + 8 * dx の計算の間に依存関係がないためで, 両者はプロセッサの中で並行して計算されている(スーパースカラー)\n",
        ""
      ]
    },
    {
      "cell_type": "markdown",
      "metadata": {
        "kernel": "SoS",
        "nbgrader": {
          "grade": false,
          "grade_id": "c-026",
          "locked": true,
          "schema_version": 3,
          "solution": false,
          "task": false
        }
      },
      "source": [
        "\n",
        "* 上記のコードを見てvector_size(64)とか, 4 みたいな定数が各所に出てきて汚いと思った人は正しい感覚の持ち主\n",
        "* コンパイラが勝手に最適化してくれないものをしようとしているのである程度汚くなるのは避けられないが, それにしても vector_size が変わっても一箇所だけ書き換えれば済むようにしておくのはいい心がけである\n",
        "* また, 一箇所書き換えれば floatも doubleも扱えるようにするのも良い心がけ\n",
        "* それをやったのが以下\n",
        ""
      ]
    },
    {
      "cell_type": "code",
      "metadata": {
        "kernel": "Python 3 (ipykernel)",
        "nbgrader": {
          "grade": false,
          "grade_id": "c-027",
          "locked": false,
          "schema_version": 3,
          "solution": false,
          "task": false
        }
      },
      "source": [
        "%%writefile int_x2_simd_v.c\n",
        "#include <stdio.h>\n",
        "#include <stdlib.h>\n",
        "\n",
        "/* double/float をこれだけで変更できるように */\n",
        "typedef double real;\n",
        "\n",
        "/* realを32バイト分 (float x 8 または double x 4)並べたデータ型 */\n",
        "typedef real realv __attribute__((vector_size(64),aligned(sizeof(real))));\n",
        "\n",
        "/* number of lanes (1 SIMD変数あたりの要素数) */\n",
        "enum { nl = sizeof(realv) / sizeof(real) };\n",
        "\n",
        "real int_x2_simd_v(real a, real b, long n) {\n",
        "  real dx = (b - a) / (real)n;\n",
        "  realv s;\n",
        "  realv x;\n",
        "  /* sの全要素を0に */\n",
        "  for (long i = 0; i < nl; i++) {\n",
        "    s[i] = 0.0;\n",
        "  }\n",
        "  /* x = { a, a+dx, a+2*dx, ... } */\n",
        "  for (long i = 0; i < nl; i++) {\n",
        "    x[i] = a + i * dx;\n",
        "  }\n",
        "  /* 本題 */\n",
        "  for (long i = 0; i < n; i += nl) {\n",
        "    s += x * x;\n",
        "    x += nl * dx;\n",
        "  }\n",
        "  /* sの各要素に入った部分和を足し合わせる */\n",
        "  real ss = 0.0;\n",
        "  for (long i = 0; i < nl; i++) {\n",
        "    ss += s[i];\n",
        "  }\n",
        "  return ss  * dx;\n",
        "}\n",
        "\n",
        "int main(int argc, char ** argv) {\n",
        "  real a = (argc > 1 ? atof(argv[1]) : 0.0);\n",
        "  real b = (argc > 2 ? atof(argv[2]) : 1.0);\n",
        "  long n   = (argc > 3 ? atof(argv[3]) : 1000L * 1000L * 1000L);\n",
        "  real s = int_x2_simd_v(a, b, n);\n",
        "  printf(\"s = %f\\n\", s);\n",
        "  return 0;\n",
        "}"
      ],
      "execution_count": null,
      "outputs": []
    },
    {
      "cell_type": "code",
      "metadata": {
        "kernel": "Bash",
        "nbgrader": {
          "grade": false,
          "grade_id": "c-028",
          "locked": false,
          "schema_version": 3,
          "solution": false,
          "task": false
        }
      },
      "source": [
        "gcc -O3 -march=native int_x2_simd_v.c -o int_x2_simd_v"
      ],
      "execution_count": null,
      "outputs": []
    },
    {
      "cell_type": "code",
      "metadata": {
        "kernel": "Bash",
        "nbgrader": {
          "grade": false,
          "grade_id": "c-029",
          "locked": false,
          "schema_version": 3,
          "solution": false,
          "task": false
        }
      },
      "source": [
        "time ./int_x2_simd_v"
      ],
      "execution_count": null,
      "outputs": []
    },
    {
      "cell_type": "markdown",
      "metadata": {
        "kernel": "SoS",
        "nbgrader": {
          "grade": false,
          "grade_id": "c-030",
          "locked": true,
          "schema_version": 3,
          "solution": false,
          "task": false
        }
      },
      "source": [
        "\n",
        "# <font color=\"green\"> Problem 1 :  積分計算のSIMD化</font>",
        "\n",
        "* \n",
        "$$ \\int_a^b \\frac{dx}{1+x^2} $$\n",
        "を計算する以下のコードを実行して実行時間を観察せよ (Shift + Enterを叩くだけ)\n",
        "* その下のセル(同じコードがコピーされている)を修正して, SIMD化せよ\n",
        "* gcc -S オプションを使って, どのような命令が使われているか確かめよ\n",
        "* SIMD化されているものとそうでないもので, 実行時間を比べよ\n",
        "* -S オプションを用いて, どのような命令がループで繰り返されているか調べよ. 1+x*x や その逆数に相当する命令はどれか?\n",
        "* Oakbridge CXでperfコマンドを用いてcyclesを測るか, このページ上で_rdtsc関数を用いてreference cyclesを測るなどして, ループ一回あたりのサイクル数を求めよ\n",
        "* なぜそのサイクル数になるのか? ヒント: この計算では割り算を行っており, 割り算命令は遅延も大きいし, クロックあたりに実行可能な最大命令数(スループット)も非常に少ない. https://software.intel.com/sites/landingpage/IntrinsicsGuide/ で調べてみよ\n",
        ""
      ]
    },
    {
      "cell_type": "code",
      "metadata": {
        "kernel": "Python 3 (ipykernel)",
        "nbgrader": {
          "grade": false,
          "grade_id": "c-031",
          "locked": false,
          "schema_version": 3,
          "solution": false,
          "task": false
        }
      },
      "source": [
        "%%writefile int_inv_1_x2.c\n",
        "#include <stdio.h>\n",
        "#include <stdlib.h>\n",
        "\n",
        "double int_inv_1_x2(double a, double b, long n) {\n",
        "  double s = 0.0;\n",
        "  double x = a;\n",
        "  double dx = (b - a) / (double)n;\n",
        "  for (long i = 0; i < n; i++) {\n",
        "    s += 1 / (1 + x * x);\n",
        "    x += dx;\n",
        "  }\n",
        "  return s * dx;\n",
        "}\n",
        "\n",
        "int main(int argc, char ** argv) {\n",
        "  double a = (argc > 1 ? atof(argv[1]) : 0.0);\n",
        "  double b = (argc > 2 ? atof(argv[2]) : 1.0);\n",
        "  long n   = (argc > 3 ? atof(argv[3]) : 1000L * 1000L * 1000L);\n",
        "  double s = int_inv_1_x2(a, b, n);\n",
        "  printf(\"s = %f\\n\", s);\n",
        "  return 0;\n",
        "}"
      ],
      "execution_count": null,
      "outputs": []
    },
    {
      "cell_type": "code",
      "metadata": {
        "kernel": "Bash",
        "nbgrader": {
          "grade": false,
          "grade_id": "c-032",
          "locked": false,
          "schema_version": 3,
          "solution": false,
          "task": false
        }
      },
      "source": [
        "gcc -O3 -march=native int_inv_1_x2.c -o int_inv_1_x2"
      ],
      "execution_count": null,
      "outputs": []
    },
    {
      "cell_type": "code",
      "metadata": {
        "kernel": "Bash",
        "nbgrader": {
          "grade": false,
          "grade_id": "c-033",
          "locked": false,
          "schema_version": 3,
          "solution": false,
          "task": false
        }
      },
      "source": [
        "time ./int_inv_1_x2"
      ],
      "execution_count": null,
      "outputs": []
    },
    {
      "cell_type": "markdown",
      "metadata": {
        "kernel": "SoS",
        "nbgrader": {
          "grade": false,
          "grade_id": "c-034",
          "locked": true,
          "schema_version": 3,
          "solution": false,
          "task": false
        }
      },
      "source": [
        "\n",
        "* 以下を修正してSIMD化せよ"
      ]
    },
    {
      "cell_type": "code",
      "metadata": {
        "kernel": "Python 3 (ipykernel)",
        "nbgrader": {
          "grade": false,
          "grade_id": "c-035",
          "locked": false,
          "schema_version": 3,
          "solution": false,
          "task": false
        }
      },
      "source": [
        "%%writefile int_inv_1_x2_a.c\n",
        "#include <stdio.h>\n",
        "#include <stdlib.h>\n",
        "\n",
        "double int_inv_1_x2(double a, double b, long n) {\n",
        "  double s = 0.0;\n",
        "  double x = a;\n",
        "  double dx = (b - a) / (double)n;\n",
        "  for (long i = 0; i < n; i++) {\n",
        "    s += 1 / (1 + x * x);\n",
        "    x += dx;\n",
        "  }\n",
        "  return s * dx;\n",
        "}\n",
        "\n",
        "int main(int argc, char ** argv) {\n",
        "  double a = (argc > 1 ? atof(argv[1]) : 0.0);\n",
        "  double b = (argc > 2 ? atof(argv[2]) : 1.0);\n",
        "  long n   = (argc > 3 ? atof(argv[3]) : 1000L * 1000L * 1000L);\n",
        "  double s = int_inv_1_x2(a, b, n);\n",
        "  printf(\"s = %f\\n\", s);\n",
        "  return 0;\n",
        "}"
      ],
      "execution_count": null,
      "outputs": []
    },
    {
      "cell_type": "code",
      "metadata": {
        "kernel": "Bash",
        "nbgrader": {
          "grade": false,
          "grade_id": "c-036",
          "locked": false,
          "schema_version": 3,
          "solution": false,
          "task": false
        }
      },
      "source": [
        "gcc -O3 -march=native int_inv_1_x2_a.c -o int_inv_1_x2_a"
      ],
      "execution_count": null,
      "outputs": []
    },
    {
      "cell_type": "code",
      "metadata": {
        "kernel": "Bash",
        "nbgrader": {
          "grade": false,
          "grade_id": "c-037",
          "locked": false,
          "schema_version": 3,
          "solution": false,
          "task": false
        }
      },
      "source": [
        "time ./int_inv_1_x2_a"
      ],
      "execution_count": null,
      "outputs": []
    }
  ],
  "metadata": {
    "celltoolbar": "Create Assignment",
    "kernelspec": {
      "display_name": "SoS",
      "language": "sos",
      "name": "sos"
    },
    "language_info": {
      "codemirror_mode": "sos",
      "file_extension": ".sos",
      "mimetype": "text/x-sos",
      "name": "sos",
      "nbconvert_exporter": "sos_notebook.converter.SoS_Exporter",
      "pygments_lexer": "sos"
    },
    "sos": {
      "kernels": [
        [
          "Bash",
          "bash",
          "bash",
          "",
          "shell"
        ],
        [
          "C",
          "c_kernel",
          "c",
          "",
          ""
        ],
        [
          "Go",
          "gophernotes",
          "go",
          "",
          ""
        ],
        [
          "Julia 1.8.5",
          "julia-1.8",
          "julia",
          "",
          ""
        ],
        [
          "OCaml default",
          "ocaml-jupyter",
          "OCaml",
          "",
          "text/x-ocaml"
        ],
        [
          "Python 3 (ipykernel)",
          "python3",
          "python3",
          "",
          {
            "name": "ipython",
            "version": 3
          }
        ],
        [
          "Rust",
          "rust",
          "rust",
          "",
          ""
        ]
      ],
      "panel": {
        "displayed": true,
        "height": 0
      },
      "version": "0.23.3"
    }
  },
  "nbformat": 4,
  "nbformat_minor": 4
}