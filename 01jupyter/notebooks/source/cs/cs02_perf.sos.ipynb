{
  "cells": [
    {
      "cell_type": "markdown",
      "metadata": {
        "kernel": "SoS",
        "nbgrader": {
          "grade": false,
          "grade_id": "c-001",
          "locked": true,
          "schema_version": 3,
          "solution": false,
          "task": false
        }
      },
      "source": [
        "\n",
        "#  高性能プログラミングと性能測定(2) --- クロック計測と性能カウンタ計測",
        ""
      ]
    },
    {
      "cell_type": "markdown",
      "metadata": {
        "kernel": "SoS",
        "nbgrader": {
          "grade": false,
          "grade_id": "c-002",
          "locked": true,
          "schema_version": 3,
          "solution": false,
          "task": false
        }
      },
      "source": [
        "\n",
        "# 1. 概要",
        "\n",
        " * プログラムの性能を改善, 最適化するためには当然のことながら性能を計測する必要がある\n",
        " * 漠然と「こうした方が今より速い」という試行錯誤をするよりも, 「限界がいくらか」を理解してそこに近づけるという視点で最適化が出来るようになれば上級者\n",
        " * このnotebookで行う実験の中にはOakbridge CX上で行わないと, 意味の有る結果が得られないものが有る\n",
        " * 準備として Oakbridge CX にログインして\n",
        "``` \n",
        "cd /work/gt11/$(whoami)\n",
        "git clone https://github.com/taura/cs-intro-taura.git\n",
        "cd cs-intro-taura/01jupyter/nb_src/source/cs/include\n",
        "module unload intel\n",
        "module load gcc/7.5.0\n",
        "make\n",
        "```\n",
        "としておくとよい\n",
        " * このnotebook中で出てくるプログラムは上記フォルダに収められている\n",
        ""
      ]
    },
    {
      "cell_type": "markdown",
      "metadata": {
        "kernel": "SoS",
        "nbgrader": {
          "grade": false,
          "grade_id": "c-003",
          "locked": true,
          "schema_version": 3,
          "solution": false,
          "task": false
        }
      },
      "source": [
        "\n",
        "# 2. コマンドを用いたお手軽計測",
        ""
      ]
    },
    {
      "cell_type": "markdown",
      "metadata": {
        "kernel": "SoS",
        "nbgrader": {
          "grade": false,
          "grade_id": "c-004",
          "locked": true,
          "schema_version": 3,
          "solution": false,
          "task": false
        }
      },
      "source": [
        "## 2-1. 実経過時間計測",
        "\n",
        " * `time` コマンドはもっともお手軽にプログラムの実行時間(実際の経過時間)を測れるコマンド\n",
        " * 以下は x = a * x + b という計算をひたすら繰り返すプログラム\n",
        ""
      ]
    },
    {
      "cell_type": "code",
      "metadata": {
        "kernel": "Python 3 (ipykernel)",
        "nbgrader": {
          "grade": false,
          "grade_id": "c-005",
          "locked": false,
          "schema_version": 3,
          "solution": false,
          "task": false
        }
      },
      "source": [
        "%%writefile ax_plus_b.c\n",
        "#include <stdio.h>\n",
        "#include <stdlib.h>\n",
        "\n",
        "float ax_plus_b(float a, float b, float x, long n) {\n",
        "  for (long j = 0; j < n; j++) {\n",
        "    x = a * x + b;\n",
        "  }\n",
        "  return x;\n",
        "}\n",
        "\n",
        "int main(int argc, char ** argv) {\n",
        "  long n = (argc > 1 ? atol(argv[1]) : 1000L * 1000L * 1000L);\n",
        "  float a = (argc > 2 ? atof(argv[2]) : 0.999);\n",
        "  float b = (argc > 3 ? atof(argv[3]) : 0.12345);\n",
        "  float x = ax_plus_b(a, b, 1.0, n);\n",
        "  printf(\"x = %f\\n\", x);\n",
        "  return 0;\n",
        "}"
      ],
      "execution_count": null,
      "outputs": []
    },
    {
      "cell_type": "code",
      "metadata": {
        "kernel": "Bash",
        "nbgrader": {
          "grade": false,
          "grade_id": "c-006",
          "locked": false,
          "schema_version": 3,
          "solution": false,
          "task": false
        }
      },
      "source": [
        "gcc -O3 -march=native ax_plus_b.c -o ax_plus_b"
      ],
      "execution_count": null,
      "outputs": []
    },
    {
      "cell_type": "code",
      "metadata": {
        "kernel": "Bash",
        "nbgrader": {
          "grade": false,
          "grade_id": "c-007",
          "locked": false,
          "schema_version": 3,
          "solution": false,
          "task": false
        }
      },
      "source": [
        "time ./ax_plus_b"
      ],
      "execution_count": null,
      "outputs": []
    },
    {
      "cell_type": "markdown",
      "metadata": {
        "kernel": "SoS",
        "nbgrader": {
          "grade": false,
          "grade_id": "c-008",
          "locked": true,
          "schema_version": 3,
          "solution": false,
          "task": false
        }
      },
      "source": [
        "\n",
        " * 表示される結果\n",
        "\n",
        "```\n",
        "01jupyter$ time ./ax_plus_b \n",
        "x = 123.447784\n",
        "\n",
        "real    0m1.109s\n",
        "user    0m1.102s\n",
        "sys     0m0.001s\n",
        "```\n",
        "\n",
        "のうち,\n",
        "\n",
        "```\n",
        "real    0m1.109s\n",
        "```\n",
        "\n",
        "というところに注目(数字はもちろん実行する度に違う). 上記は実時間として1.109秒かかっていたということ.\n",
        ""
      ]
    },
    {
      "cell_type": "markdown",
      "metadata": {
        "kernel": "SoS",
        "nbgrader": {
          "grade": false,
          "grade_id": "c-009",
          "locked": true,
          "schema_version": 3,
          "solution": false,
          "task": false
        }
      },
      "source": [
        "\n",
        "## 2-2. Linux perf コマンド 基本",
        "\n",
        "* perf は Linuxでプログラムの挙動を解析する超有用ツール\n",
        "* 情報源は色々あるので時間のある時に, perf linux とでもしてググってみてください\n",
        "* 実時間だけでなく, クロック数, 実行した命令数, 特定の種類の命令数, キャッシュミスの数など色々なものが測定できるので, 「プログラムの挙動が自分の意図したものと同じかどうか」を測るのに使える\n",
        "* <font color=red>残念なお知らせ</font> このページで Shift + Enterを叩くと &lt; not supported &gt; のような結果が多く表示される\n",
        "* プログラムが仮想環境上で動いており, そこではセキュリティ上の理由からほとんどの情報は取れなくなっているのが理由\n",
        "* perf を使った結果は, Oakbridge CX上で自分でコマンドを実行する(ログインノードでコマンドを実行するかまたはシェルスクリプトを書いてジョブを投げる)ときちんとした結果が得られます\n",
        "* 以下そのようなプログラムには <font color=\"blue\">on Oakbridge CX</font> というラベルをふっておきます\n",
        ""
      ]
    },
    {
      "cell_type": "markdown",
      "metadata": {
        "kernel": "SoS",
        "nbgrader": {
          "grade": false,
          "grade_id": "c-010",
          "locked": true,
          "schema_version": 3,
          "solution": false,
          "task": false
        }
      },
      "source": [
        "<font color=\"blue\">on Oakbridge CX</font> "
      ]
    },
    {
      "cell_type": "code",
      "metadata": {
        "kernel": "Bash",
        "nbgrader": {
          "grade": false,
          "grade_id": "c-011",
          "locked": false,
          "schema_version": 3,
          "solution": false,
          "task": false
        }
      },
      "source": [
        "perf stat ./ax_plus_b"
      ],
      "execution_count": null,
      "outputs": []
    },
    {
      "cell_type": "markdown",
      "metadata": {
        "kernel": "SoS",
        "nbgrader": {
          "grade": false,
          "grade_id": "c-012",
          "locked": true,
          "schema_version": 3,
          "solution": false,
          "task": false
        }
      },
      "source": [
        "\n",
        " * perf がまともに使える環境でやると以下のような結果が得られる\n",
        " * 正確な数字はもちろん環境によって異なるし, 実行する度に微妙に違い得る. 以下の説明は, 結果が以下の数字だったという前提で続ける\n",
        " * 上述したとおり上記で `Shift + Enter`をしたときは (Amazonクラウドの制限により) ほとんどの結果は &lt; not supported &gt; となって教えてくれない(が, 気にしない)\n",
        "\n",
        "```\n",
        "01jupyter$ perf stat ./ax_plus_b \n",
        "x = 123.447784\n",
        "\n",
        " Performance counter stats for './ax_plus_b':\n",
        "\n",
        "          1,088.39 msec task-clock                #    0.996 CPUs utilized\n",
        "                 9      context-switches          #    0.008 K/sec\n",
        "                 0      cpu-migrations            #    0.000 K/sec\n",
        "               211      page-faults               #    0.194 K/sec\n",
        "     4,019,477,577      cycles                    #    3.693 GHz\n",
        "     4,008,895,587      instructions              #    1.00  insn per cycle\n",
        "     1,001,638,024      branches                  #  920.289 M/sec\n",
        "            31,486      branch-misses             #    0.00% of all branches\n",
        "\n",
        "       1.092366311 seconds time elapsed\n",
        "\n",
        "       1.087945000 seconds user\n",
        "       0.000997000 seconds sys\n",
        "```\n",
        "\n",
        "* 1.635826720 seconds time elapsed は timeコマンドが表示するのと同じ情報\n",
        "* 特に重要・有用なのは, <font color=\"blue\">cycles</font> で, プログラムを実行するのにプロセッサが刻んだクロック数. これがなぜ重要・有用かは後ほど説明する\n",
        "* <font color=\"blue\">instructions</font>もしばしば重要. 命令数はクロック数よりも予測しやすいので, 目論見が成功しているかどうかの検算に適している\n",
        ""
      ]
    },
    {
      "cell_type": "markdown",
      "metadata": {
        "kernel": "SoS",
        "nbgrader": {
          "grade": false,
          "grade_id": "c-013",
          "locked": true,
          "schema_version": 3,
          "solution": false,
          "task": false
        }
      },
      "source": [
        "\n",
        "* ためしに命令数が, 理解と相違ないかを確認してみよう.\n",
        "* 今実行しているプログラムは,\n",
        "\n",
        "```\n",
        "x = a * x + b\n",
        "```\n",
        "\n",
        "という計算を多数回(引数で指定しなければ 1000L * 1000L * 1000L = 10億回)繰り返すもので, 実行命令の殆どはこのループに費やされていると思われる\n",
        "\n",
        "* ではこのループの実行に相当する機械語を見てみると,\n",
        ""
      ]
    },
    {
      "cell_type": "code",
      "metadata": {
        "kernel": "Python 3 (ipykernel)",
        "nbgrader": {
          "grade": false,
          "grade_id": "c-014",
          "locked": false,
          "schema_version": 3,
          "solution": false,
          "task": false
        }
      },
      "source": [
        "%%writefile ax_plus_b_s.c\n",
        "float ax_plus_b(float a, float b, float x, long n) {\n",
        "  asm volatile(\"# ============= ax_plus_b\");\n",
        "  for (long j = 0; j < n; j++) {\n",
        "    x = a * x + b;\n",
        "  }\n",
        "  asm volatile(\"# ------------- ax_plus_b\");\n",
        "  return x;\n",
        "}\n",
        ""
      ],
      "execution_count": null,
      "outputs": []
    },
    {
      "cell_type": "code",
      "metadata": {
        "kernel": "Bash",
        "nbgrader": {
          "grade": false,
          "grade_id": "c-015",
          "locked": false,
          "schema_version": 3,
          "solution": false,
          "task": false
        }
      },
      "source": [
        "gcc -S -O3 -march=native ax_plus_b_s.c\n",
        "cat ax_plus_b_s.s"
      ],
      "execution_count": null,
      "outputs": []
    },
    {
      "cell_type": "markdown",
      "metadata": {
        "kernel": "SoS",
        "nbgrader": {
          "grade": false,
          "grade_id": "c-016",
          "locked": true,
          "schema_version": 3,
          "solution": false,
          "task": false
        }
      },
      "source": [
        "\n",
        " * `# ============= ax_plus_b` と `# ------------- ax_plus_b` で囲まれているのは以下の部分\n",
        "\n",
        "```\n",
        "        # ============= ax_plus_b\n",
        "# 3. 0 \"\" 2",
        "#NO_APP\n",
        "\ttestq\t%rdi, %rdi\n",
        "\tjle\t.L2\n",
        "\txorl\t%eax, %eax\n",
        "\t.p2align 4,,10\n",
        "\t.p2align 3\n",
        ".L3:\n",
        "\taddq\t$1, %rax\n",
        "\tvfmadd132ss\t%xmm0, %xmm1, %xmm2\n",
        "\tcmpq\t%rax, %rdi\n",
        "\tjne\t.L3\n",
        ".L2:\n",
        "#APP\n",
        "# 4. 10 \"ax_plus_b_s.c\" 1",
        "\t# ------------- ax_plus_b\n",
        "```\n",
        "\n",
        "* この中で, ラベル (.Lx) とジャンプ命令(jで始まる命令. 下記では jle .L2とjne .L3)の宛先に注目すると, どうやらループ本体として実行されてるのは\n",
        "\n",
        "```\n",
        ".L3:\n",
        "\taddq\t$1, %rax\n",
        "\tvfmadd132ss\t%xmm0, %xmm1, %xmm2\n",
        "\tcmpq\t%rax, %rdi\n",
        "\tjne\t.L3\n",
        "```\n",
        "\n",
        "* 見ての通り4命令\n",
        "* おそらく`vfmadd132ss` 命令で a * x + b の計算が行われている\n",
        "* 残りはループを n 回回るための計算で, \n",
        " * `addq $1, %rax` が i++\n",
        " * `cmpq %rax, %rdi` が i と n を比較する命令\n",
        " * `jne .L3` (jump if not equal) は cmpq 命令の結果, not equal だったら .L3 にジャンプする(つまり, まだループを続ける)という命令\n",
        "\n",
        "* つまりこのループで 4000000000 命令. これと実際の命令数 (4,008,895,587 instructions) が極めてよく一致していることに気を良くしてほしい(もちろんループ以外にもmain関数やそこに至るまでに相当数の命令を実行しているのでぴったり一致とはならない)\n",
        "* 引数nを色々変えて自信を深めると良い\n",
        ""
      ]
    },
    {
      "cell_type": "markdown",
      "metadata": {
        "kernel": "SoS",
        "nbgrader": {
          "grade": false,
          "grade_id": "c-017",
          "locked": true,
          "schema_version": 3,
          "solution": false,
          "task": false
        }
      },
      "source": [
        "\n",
        "* ついでに <font color=\"blue\">1,001,638,024 branches</font> も自信を深める要素になる. これは繰り返しの回数にほぼ一致している\n",
        ""
      ]
    },
    {
      "cell_type": "markdown",
      "metadata": {
        "kernel": "SoS",
        "nbgrader": {
          "grade": false,
          "grade_id": "c-018",
          "locked": true,
          "schema_version": 3,
          "solution": false,
          "task": false
        }
      },
      "source": [
        "\n",
        "# 5. cycles を理解する",
        "\n",
        "* 上記で表示された\n",
        "\n",
        "```\n",
        "     4,019,477,577      cycles                    #    3.693 GHz\n",
        "```\n",
        "\n",
        "もなにやらループの繰り返し数1000000000と関係していそうである.\n",
        "\n",
        "* おそらく以下のループを一周するのに 4 cycle かかるということなのだろう\n",
        "\n",
        "```\n",
        ".L3:\n",
        "\taddq\t$1, %rax\n",
        "\tvfmadd132ss\t%xmm0, %xmm1, %xmm2\n",
        "\tcmpq\t%rax, %rdi\n",
        "\tjne\t.L3\n",
        "```\n",
        "\n",
        "* なぜ5 cycleか?\n",
        "* 命令にはその結果が出るまでの「遅延」というものが決まっている(中村先生の授業を参照)\n",
        "* その命令の遅延が命令の種類とプロセッサの詳細設計(世代)によって異なっており, Oakbridge CXのSkylake (より細かくはCaskade Lake)というCPU (<a href=\"https://ark.intel.com/content/www/jp/ja/ark/products/192478/intel-xeon-platinum-8280-processor-38-5m-cache-2-70-ghz.html\" target=\"_blank\">詳細</a>) では, vfmadd132ss 命令の遅延が4なのである\n",
        "* 上記のループは, vfmadd132ss 命令の結果 (x = a * x + b の結果)を, 次の vfmadd132ss 命令が使う(命令間に依存関係がある)ため, <font color=\"red\">「vfmaddssの実行は 4 クロックに1回というペースでしか進まない」</font>\n",
        "\n",
        "* 上記のループが1000000000回 回るのに約4000000000 cycles かかるのはそういう理由による(命令数が4だから, というわけではない)\n",
        "* 厳密にはその他の命令についても同様の考察(各命令の遅延がいくらで, どの命令とどの命令の間に依存関係があるか)をして初めて実行速度が正確に予測できるが, add $1,%raxやcmp %rax,%rdi のような整数間の加減算の遅延は少ない(1や2)のであまり問題にならない\n",
        "\n",
        "* なお, ループ1周にかかる時間を予測するのに必ず機械語を見ないといけないわけではない\n",
        "```\n",
        "  for (long j = 0; j < n; j++) {\n",
        "    x = a * x + b;\n",
        "  }\n",
        "```\n",
        "というループを見れば, `a * x + b`という計算が, 依存関係をもっている(ある fmadd の結果が次のfmaddで使われる)ことは機械語を見なくても明らかで, それ以外の計算 (`j++` や `j &lt; n`)が遅延を律速することはないだろうと割り切れば, 上記ループの1周にかかる時間は, fmadd命令の遅延にほかならないと理解できる\n",
        "\n",
        "* 最後に, 命令の遅延なんていうマニアックな情報を全部知らないといけない? と思った人へ\n",
        " * Intel Intrinsics Guideで命令を検索すると, たいがいのものは遅延が書いてある https://software.intel.com/sites/landingpage/IntrinsicsGuide/\n",
        " * また, すべての命令の遅延をまとめた表もある https://www.agner.org/optimize/#manuals の 4. Instruction tables: Lists of instruction latencies, throughputs and micro-operation breakdowns for Intel, AMD and VIA CPUs. この中の Skylake のシートを参照\n",
        " * 最高性能近くを目指す場合, 非常によく出るものに関しては覚えて損はない\n",
        " * メモリアクセスに関してはキャッシュに当たる・当たらないで雲泥の差があるので, 一つには決められないが, 最低遅延(1次キャッシュヒット時)くらいは覚えておいて損はない\n",
        ""
      ]
    },
    {
      "cell_type": "markdown",
      "metadata": {
        "kernel": "SoS",
        "nbgrader": {
          "grade": false,
          "grade_id": "c-019",
          "locked": true,
          "schema_version": 3,
          "solution": false,
          "task": false
        }
      },
      "source": [
        "\n",
        "## 5-1. Linux perf コマンド 中級",
        "\n",
        "* perfではデフォルトで表示される, instructionsやbranchesの他にも様々な出来事(イベント)の回数を表示できる\n",
        "* 使い方は\n",
        "\n",
        "```\n",
        "perf stat -e イベント名 -e イベント名 -e イベント名 ... コマンド\n",
        "```\n",
        "\n",
        "* どのようなイベントが表示できるかは\n",
        "```\n",
        "perf list\n",
        "```\n",
        "で取得できるが, おびただしい数の(おそらく殆ど意味のわからない)イベントが表示される\n",
        ""
      ]
    },
    {
      "cell_type": "markdown",
      "metadata": {
        "kernel": "SoS",
        "nbgrader": {
          "grade": false,
          "grade_id": "c-020",
          "locked": true,
          "schema_version": 3,
          "solution": false,
          "task": false
        }
      },
      "source": [
        "<font color=\"blue\">on Oakbridge CX</font> "
      ]
    },
    {
      "cell_type": "code",
      "metadata": {
        "kernel": "Bash",
        "nbgrader": {
          "grade": false,
          "grade_id": "c-021",
          "locked": false,
          "schema_version": 3,
          "solution": false,
          "task": false
        }
      },
      "source": [
        "perf list"
      ],
      "execution_count": null,
      "outputs": []
    },
    {
      "cell_type": "markdown",
      "metadata": {
        "kernel": "SoS",
        "nbgrader": {
          "grade": false,
          "grade_id": "c-022",
          "locked": true,
          "schema_version": 3,
          "solution": false,
          "task": false
        }
      },
      "source": [
        "\n",
        " * そうして表示されたもののうち, 以下では自信を深めるために,\n",
        "```\n",
        "fp_arith_inst_retired.scalar_single\n",
        "```\n",
        "の回数を表示してみる. これは, スカラーの(SIMDではない), 単精度(32 bit)浮動小数点(Cのfloat)の命令数. つまり上記ループの vfmadd132ss が実行された回数を数えているつもり\n",
        ""
      ]
    },
    {
      "cell_type": "markdown",
      "metadata": {
        "kernel": "SoS",
        "nbgrader": {
          "grade": false,
          "grade_id": "c-023",
          "locked": true,
          "schema_version": 3,
          "solution": false,
          "task": false
        }
      },
      "source": [
        "<font color=\"blue\">on Oakbridge CX</font> "
      ]
    },
    {
      "cell_type": "code",
      "metadata": {
        "kernel": "Bash",
        "nbgrader": {
          "grade": false,
          "grade_id": "c-024",
          "locked": false,
          "schema_version": 3,
          "solution": false,
          "task": false
        }
      },
      "source": [
        "#\n",
        "perf stat -e fp_arith_inst_retired.scalar_single -e instructions -e cycles ./ax_plus_b"
      ],
      "execution_count": null,
      "outputs": []
    },
    {
      "cell_type": "markdown",
      "metadata": {
        "kernel": "SoS",
        "nbgrader": {
          "grade": false,
          "grade_id": "c-025",
          "locked": true,
          "schema_version": 3,
          "solution": false,
          "task": false
        }
      },
      "source": [
        "\n",
        " * Oakbridge CXでの結果\n",
        "\n",
        "```\n",
        "01jupyter$ perf stat -e fp_arith_inst_retired.scalar_single -e instructions -e cycles ./ax_plus_b\n",
        "x = 123.447784\n",
        "\n",
        " Performance counter stats for './ax_plus_b':\n",
        "\n",
        "     2,000,000,000      fp_arith_inst_retired.scalar_single\n",
        "     4,008,725,044      instructions              #    1.00  insn per cycle\n",
        "     4,009,404,903      cycles\n",
        "\n",
        "       1.093286355 seconds time elapsed\n",
        "```\n",
        "\n",
        " * 1000000000 になるのかとおもいきや 2000000000となった. これはおそらく fmadd は掛け算と足し算で2回分と数えられているのだろう(この辺はプロセッサの実装がどうなっているかを知らないと, どうせ正確なことはわからないので, 柔軟にというか, 事実に適度に自分を迎合させつつ納得する)\n",
        " * なお, そう思って perf list の説明をよく読むと, それを裏付けることが書いてあった (FM(N)ADD... 以降)\n",
        "\n",
        "```\n",
        "  fp_arith_inst_retired.scalar_single               \n",
        "       [Number of SSE/AVX computational scalar single precision floating-point\n",
        "        instructions retired. Each count represents 1 computation. Applies to\n",
        "        SSE* and AVX* scalar single precision floating-point instructions: ADD\n",
        "        SUB MUL DIV MIN MAX RCP RSQRT SQRT FM(N)ADD/SUB. FM(N)ADD/SUB\n",
        "        instructions count twice as they perform multiple calculations per\n",
        "        element]\n",
        "```\n",
        ""
      ]
    },
    {
      "cell_type": "markdown",
      "metadata": {
        "kernel": "SoS",
        "nbgrader": {
          "grade": false,
          "grade_id": "c-026",
          "locked": true,
          "schema_version": 3,
          "solution": false,
          "task": false
        }
      },
      "source": [
        "\n",
        "## 5-2. サイクル数にも2種類ある",
        "\n",
        "* 上記で cycles がプロセッサの刻むサイクル数のことであると述べた\n",
        "* 実は最近のプロセッサにはもう一つ別の種類のサイクル数がある (reference cycles)\n",
        "* perfでは ref-cycles というイベントで取得可能\n",
        ""
      ]
    },
    {
      "cell_type": "markdown",
      "metadata": {
        "kernel": "SoS",
        "nbgrader": {
          "grade": false,
          "grade_id": "c-027",
          "locked": true,
          "schema_version": 3,
          "solution": false,
          "task": false
        }
      },
      "source": [
        "<font color=\"blue\">on Oakbridge CX</font> "
      ]
    },
    {
      "cell_type": "code",
      "metadata": {
        "kernel": "Bash",
        "nbgrader": {
          "grade": false,
          "grade_id": "c-028",
          "locked": false,
          "schema_version": 3,
          "solution": false,
          "task": false
        }
      },
      "source": [
        "perf stat -e cycles -e ref-cycles ./ax_plus_b"
      ],
      "execution_count": null,
      "outputs": []
    },
    {
      "cell_type": "markdown",
      "metadata": {
        "kernel": "SoS",
        "nbgrader": {
          "grade": false,
          "grade_id": "c-029",
          "locked": true,
          "schema_version": 3,
          "solution": false,
          "task": false
        }
      },
      "source": [
        "\n",
        " * 両者は似て非なる値を返してくる. 以下はOakbridge CXで実行したときの値\n",
        "\n",
        "```\n",
        "01jupyter$ perf stat -e cycles -e ref-cycles ./ax_plus_b\n",
        "x = 123.447784\n",
        "\n",
        " Performance counter stats for './ax_plus_b':\n",
        "\n",
        "     4,018,032,001      cycles\n",
        "     2,857,892,004      ref-cycles\n",
        "\n",
        "       1.062758164 seconds time elapsed\n",
        "\n",
        "       1.056596000 seconds user\n",
        "       0.002990000 seconds sys\n",
        "```\n",
        "\n",
        " * 事情を抜きにして先に結論を述べると, 性能が思ったとおりになっているかを顕微鏡的に観測するには  cycles が適しており, わざわざ ref-cyclesを使う意味はあまりない\n",
        " * 以降前者をprocessor cycle数, 後者をreference cycle数と呼ぶことにしよう(後者は世に普及した言葉. 前者は, 後者との区別のためにここで便宜的に導入した言葉)\n",
        " * processor cycle数は実時間にぴったり比例しているわけではなく, 1 processor cycle にかかる本当の時間は<font color=\"red\">プロセッサの周波数調整機能(Dynamic Voltage/Frequency Scaling; DVFS)</font>によって, 実行時に伸び縮みしている\n",
        " * それに対し, reference cycle は常に一定で刻まれる, 実時間に完全対応したcycleである\n",
        " * 一般にプロセッサは消費電力をある値以内におさえるため, 動いているコアの数が多いときは周波数を下げ, 少なければあげる, ということをする\n",
        " * したがって同じ 1000000 processor cyclesかかる計算でも実時間では1コアのときのほうが速い, ということが生じる\n",
        " * 「vfmaddの遅延が4サイクルである」とか, 「このプロセッサは1サイクルにvfmaddを2個まで実行できる」などというときのサイクルは, 4 \"processor\" cyclesという意味である. この値は, アーキテクチャのパイプラインの構成によってぴたっと決まる値であり, プロセッサの動作周波数が早かろうが遅かろうが常に4 processor cyclesである. 一方これをreference cycle数(実時間)で測ると, 動作周波数が速ければ少なくなるし, 遅ければ多くなる\n",
        " * プログラムが思い通りの速度で動作しているかを知るために, 細かい測定をしている時は, 周波数が増減しようともいつも同じ値を示してくれる (DVFSの影響を受けない) processor cyclesの方が都合が良い\n",
        "\n",
        " * だったらなぜわざわざ reference cycles の話をするの? と思った(鋭い)人へ\n",
        " * それは, 実時間やreference cyclesはプログラム内からでも比較的気楽に入手できるのに対し, processor cyclesの方はそれなりのプログラムを準備しないと取得できない\n",
        " * また, Amazon Web Serviceなど, processor cyclesが(田浦の知る限り)得られない環境もある(実は出来るという情報をくれた人には昼飯をおごります)\n",
        " * よって場合によってはDVFSの影響は受けることを承知で, 実時間やreference cyclesを(しぶしぶ)使うという選択肢もある\n",
        ""
      ]
    },
    {
      "cell_type": "markdown",
      "metadata": {
        "kernel": "SoS",
        "nbgrader": {
          "grade": false,
          "grade_id": "c-030",
          "locked": true,
          "schema_version": 3,
          "solution": false,
          "task": false
        }
      },
      "source": [
        "\n",
        "## 5-3. データアクセス性能",
        "\n",
        "* fmaddの遅延が4 processor cyclesであることを見たが実際のプログラムではデータをメモリ(キャッシュ)とやり取りする部分でさらに遅延が加わる\n",
        "* とくにメモリのアクセスはデータがキャッシュにあるかどうか, どのレベルのキャッシュにあるかで雲泥の差が出る\n",
        "* 最近のIntelのプロセッサのメモリは4階層 (L1キャッシュ, L2キャッシュ, L3キャッシュ, 主記憶)\n",
        " * L1キャッシュが一番早くて小さい\n",
        " * 主記憶が一番遅くて大きい\n",
        " * 以下はOakbridge CXの計算ノードの構成(ログインノードは微妙に違うがほぼ同じ)\n",
        " * Linuxではlscpuというコマンドで得られる\n",
        "\n",
        "|レベル|サイズ|\n",
        "|------|------|\n",
        "| L1   |32KB  |\n",
        "| L2   |1MB   |\n",
        "| L3   |39MB  |\n",
        "|主記憶|192GB |\n",
        "\n",
        "* キャッシュの大雑把な動作は「最近アクセスされたものを覚えている」\n",
        "* したがって最近アクセスしたものをすぐにまたアクセスすればキャッシュに載っているし, そうでなければ載っていない\n",
        "* たとえば 32KB 以内の領域(だけ)をひたすら繰り返しアクセスするプログラムはほとんどL1キャッシュしかアクセスしない\n",
        "* L1キャッシュに当たったときのアクセスとすべてのキャッシュにはずれたときの性能差は激しいので一度見ておくほうが良い\n",
        "* 以下のプログラムは, \n",
        "```\n",
        "./ax_plus_b_many log_m s log_n\n",
        "```\n",
        "として実行すると,\n",
        " * $m = 2^{\\log m}$ 要素のdouble型の配列Xを作る\n",
        " * その配列の要素を$s$ 要素おきに$m \\times n$ 回アクセスする(配列の終わりに行ったら先頭に戻る. 正確には, $i$回目のアクセスでは $(s \\times i) \\mod m$ 番目の要素をアクセスする)\n",
        "```\n",
        "      y += a * X[(i * s) % m];\n",
        "```\n",
        " * それを$n$回繰り返す\n",
        "\n",
        "* $m$ が小さければ小さな領域を, 大きければ大きな領域を触ることになる\n",
        ""
      ]
    },
    {
      "cell_type": "code",
      "metadata": {
        "kernel": "Python 3 (ipykernel)",
        "nbgrader": {
          "grade": false,
          "grade_id": "c-031",
          "locked": false,
          "schema_version": 3,
          "solution": false,
          "task": false
        }
      },
      "source": [
        "%%writefile ax_plus_b_many.c\n",
        "#include <stdio.h>\n",
        "#include <stdlib.h>\n",
        "\n",
        "typedef double real;\n",
        "\n",
        "real ax_plus_b_many(real a, real * X,\n",
        "                    long m, long s, long n) {\n",
        "  long mask = m - 1;\n",
        "  real y = 0.0;\n",
        "  asm volatile(\"# ============= inner_prod loop\");\n",
        "  for (long i = 0; i < n; i++) {\n",
        "    for (long j = 0; j < m * s; j += s) {\n",
        "      y += a * X[j & mask];\n",
        "    }\n",
        "  }\n",
        "  asm volatile(\"# ------------- inner_prod loop\");\n",
        "  return y;\n",
        "}\n",
        "\n",
        "int main(int argc, char ** argv) {\n",
        "  long log_m  = (argc > 1 ? atol(argv[1]) : 24); /* 16M = 64MB */\n",
        "  long s      = (argc > 2 ? atol(argv[2]) : 1);\n",
        "  long log_n  = (argc > 3 ? atol(argv[3]) : 6);\n",
        "  real a     = (argc > 4 ? atof(argv[4]) : 0.999);\n",
        "  /* m要素のrealの配列を作り適当に初期化 */\n",
        "  long m = 1 << log_m;\n",
        "  long n = 1 << log_n;\n",
        "  printf(\"scan %ld elements %ld times (%ld accesses) with stride %ld\\n\",\n",
        "         m, n, m * n, s);\n",
        "  real * X = (real *)malloc(sizeof(real) * m);\n",
        "  //unsigned short rg[3] = { j, j + 1, j + 2 };\n",
        "  for (long i = 0; i < m; i++) {\n",
        "    X[i] = 1; //2 * erand48(rg) - 1.0;\n",
        "  }\n",
        "  real y = ax_plus_b_many(a, X, m, s, n);\n",
        "  /* 適当な要素を表示(計算を省略させないために) */\n",
        "  printf(\"y = %f\\n\", y);\n",
        "  return 0;\n",
        "}"
      ],
      "execution_count": null,
      "outputs": []
    },
    {
      "cell_type": "code",
      "metadata": {
        "kernel": "Bash",
        "nbgrader": {
          "grade": false,
          "grade_id": "c-032",
          "locked": false,
          "schema_version": 3,
          "solution": false,
          "task": false
        }
      },
      "source": [
        "gcc -O3 -march=native ax_plus_b_many.c -o ax_plus_b_many"
      ],
      "execution_count": null,
      "outputs": []
    },
    {
      "cell_type": "markdown",
      "metadata": {
        "kernel": "SoS",
        "nbgrader": {
          "grade": false,
          "grade_id": "c-033",
          "locked": true,
          "schema_version": 3,
          "solution": false,
          "task": false
        }
      },
      "source": [
        "\n",
        "* 以下はどれも $\\log m + \\log n = 30$ ($m n = 2^{30}$) という設定. つまりどのケースも同じだけのメモリアクセスを発行し, 同じだけの fmadd の計算をする\n",
        "* しかし, $m$ が小さい場合と大きい場合で(わずかだが)性能が違う\n",
        ""
      ]
    },
    {
      "cell_type": "code",
      "metadata": {
        "kernel": "Bash",
        "nbgrader": {
          "grade": false,
          "grade_id": "c-034",
          "locked": false,
          "schema_version": 3,
          "solution": false,
          "task": false
        }
      },
      "source": [
        "time ./ax_plus_b_many 10 1 20"
      ],
      "execution_count": null,
      "outputs": []
    },
    {
      "cell_type": "code",
      "metadata": {
        "kernel": "Bash",
        "nbgrader": {
          "grade": false,
          "grade_id": "c-035",
          "locked": false,
          "schema_version": 3,
          "solution": false,
          "task": false
        }
      },
      "source": [
        "time ./ax_plus_b_many 24 1 6"
      ],
      "execution_count": null,
      "outputs": []
    },
    {
      "cell_type": "markdown",
      "metadata": {
        "kernel": "SoS",
        "nbgrader": {
          "grade": false,
          "grade_id": "c-036",
          "locked": true,
          "schema_version": 3,
          "solution": false,
          "task": false
        }
      },
      "source": [
        "\n",
        "* 上記は$s = 1$だったので配列の先頭から終わりまでを切れ目なく連続的にアクセスする\n",
        "\n",
        "* $s$を大きくする($X$ を飛び飛びにアクセスするようにする) とさらに性能差が目立つようになる\n",
        ""
      ]
    },
    {
      "cell_type": "code",
      "metadata": {
        "kernel": "Bash",
        "nbgrader": {
          "grade": false,
          "grade_id": "c-037",
          "locked": false,
          "schema_version": 3,
          "solution": false,
          "task": false
        }
      },
      "source": [
        "time ./ax_plus_b_many 24 1 6"
      ],
      "execution_count": null,
      "outputs": []
    },
    {
      "cell_type": "code",
      "metadata": {
        "kernel": "Bash",
        "nbgrader": {
          "grade": false,
          "grade_id": "c-038",
          "locked": false,
          "schema_version": 3,
          "solution": false,
          "task": false
        }
      },
      "source": [
        "time ./ax_plus_b_many 24 3 6"
      ],
      "execution_count": null,
      "outputs": []
    },
    {
      "cell_type": "code",
      "metadata": {
        "kernel": "Bash",
        "nbgrader": {
          "grade": false,
          "grade_id": "c-039",
          "locked": false,
          "schema_version": 3,
          "solution": false,
          "task": false
        }
      },
      "source": [
        "time ./ax_plus_b_many 24 5 6"
      ],
      "execution_count": null,
      "outputs": []
    },
    {
      "cell_type": "code",
      "metadata": {
        "kernel": "Bash",
        "nbgrader": {
          "grade": false,
          "grade_id": "c-040",
          "locked": false,
          "schema_version": 3,
          "solution": false,
          "task": false
        }
      },
      "source": [
        "time ./ax_plus_b_many 24 17 6"
      ],
      "execution_count": null,
      "outputs": []
    },
    {
      "cell_type": "markdown",
      "metadata": {
        "kernel": "SoS",
        "nbgrader": {
          "grade": false,
          "grade_id": "c-041",
          "locked": true,
          "schema_version": 3,
          "solution": false,
          "task": false
        }
      },
      "source": [
        "\n",
        "* なお, $\\log m$ が小さいうちは $s$ を大きくしても性能は変わらない\n",
        ""
      ]
    },
    {
      "cell_type": "code",
      "metadata": {
        "kernel": "Bash",
        "nbgrader": {
          "grade": false,
          "grade_id": "c-042",
          "locked": false,
          "schema_version": 3,
          "solution": false,
          "task": false
        }
      },
      "source": [
        "time ./ax_plus_b_many 10 1 20"
      ],
      "execution_count": null,
      "outputs": []
    },
    {
      "cell_type": "code",
      "metadata": {
        "kernel": "Bash",
        "nbgrader": {
          "grade": false,
          "grade_id": "c-043",
          "locked": false,
          "schema_version": 3,
          "solution": false,
          "task": false
        }
      },
      "source": [
        "time ./ax_plus_b_many 24 1 6"
      ],
      "execution_count": null,
      "outputs": []
    },
    {
      "cell_type": "markdown",
      "metadata": {
        "kernel": "SoS",
        "nbgrader": {
          "grade": false,
          "grade_id": "c-044",
          "locked": true,
          "schema_version": 3,
          "solution": false,
          "task": false
        }
      },
      "source": [
        "\n",
        "* これらはキャッシュの挙動と関係している\n",
        "* キャッシュサイズ以上の領域を同じ順序で繰り返しアクセスするプログラムは, あるデータxをアクセスしてからもう一度そのデータxに触るまでにキャッシュサイズ以上のデータをアクセスするということだから, きっとその時にデータxはキャッシュからなくなっている(キャッシュは, 「最近アクセスされたものを覚えておく」ことに注意). したがってキャッシュミスを起こす\n",
        "* これが以下のようなケース ($m = 2^{24}$ (128MB), $s = 17$)でおきていることである\n",
        "```\n",
        "./ax_plus_b_many 24 17 6\n",
        "```"
      ]
    },
    {
      "cell_type": "markdown",
      "metadata": {
        "kernel": "SoS",
        "nbgrader": {
          "grade": false,
          "grade_id": "c-045",
          "locked": true,
          "schema_version": 3,
          "solution": false,
          "task": false
        }
      },
      "source": [
        "\n",
        "* こう考えると, キャッシュサイズ以上の領域を同じ順序で繰り返しアクセスするプログラムは, ほぼすべてのアクセスがキャッシュミスをするということになりそうだがそこまで話は単純ではない\n",
        "\n",
        "* キャッシュとデータのやり取りは「キャッシュライン」という塊 (Intel CPUの場合64バイト)で行われる. つまりあるラインのデータを触ると残りのデータも一緒に連れてこられ, それらに対するアクセスは(アクセスされるまでに追い出されなければ)ミスしない. 特に, 連続した領域を触る場合はあるラインの先頭のデータをアクセスした後残りのデータをすぐに触ることになるので, 「1ラインにつき1回」(doubleの場合8要素につき1回」のキャッシュミスになる\n",
        "\n",
        "* また, プロセッサにはプリフェッチという機能も備わっており, ある領域を一定の間隔でアクセスしている場合にそれを検出して, 先のキャッシュラインを予めアクセスしておくという機能や, 隣接ラインプリフェッチと言って, あるラインにアクセスした時に隣のラインを(ほぼ無条件に)アクセスするような機能もあり, 実際のキャッシュミス数を正確に予測するのは難しい\n",
        ""
      ]
    },
    {
      "cell_type": "markdown",
      "metadata": {
        "kernel": "SoS",
        "nbgrader": {
          "grade": false,
          "grade_id": "c-046",
          "locked": true,
          "schema_version": 3,
          "solution": false,
          "task": false
        }
      },
      "source": [
        "\n",
        "# 6. perf stat を使ってキャッシュミスを計測してみよう",
        "\n",
        "* perf stat -e に適切なイベント名を与えることでキャッシュミスの計測が出来る (イベント名は perf list で探る)\n",
        "  * L1-dcache-load-misses が ロード(読み込み)時の, L1 データキャッシュへのミス\n",
        "  * LLC-load-misses が ロード(読み込み)時の, Last Level Cache (L3 キャッシュ)へのミス\n",
        "\n",
        "* $m = 2^{24}$, $n = 2^{6}$ $s = 17$ として測定\n",
        ""
      ]
    },
    {
      "cell_type": "markdown",
      "metadata": {
        "kernel": "SoS",
        "nbgrader": {
          "grade": false,
          "grade_id": "c-047",
          "locked": true,
          "schema_version": 3,
          "solution": false,
          "task": false
        }
      },
      "source": [
        "<font color=\"blue\">on Oakbridge CX</font> "
      ]
    },
    {
      "cell_type": "code",
      "metadata": {
        "kernel": "Bash",
        "nbgrader": {
          "grade": false,
          "grade_id": "c-048",
          "locked": false,
          "schema_version": 3,
          "solution": false,
          "task": false
        }
      },
      "source": [
        "#\n",
        "perf stat -e instructions -e fp_arith_inst_retired.scalar_double -e LLC-load-misses -e L1-dcache-load-misses -e cycles ./ax_plus_b_many 24 17 6"
      ],
      "execution_count": null,
      "outputs": []
    },
    {
      "cell_type": "markdown",
      "metadata": {
        "kernel": "SoS",
        "nbgrader": {
          "grade": false,
          "grade_id": "c-049",
          "locked": true,
          "schema_version": 3,
          "solution": false,
          "task": false
        }
      },
      "source": [
        "* 以下は Oakbridge CXでの結果 \n",
        "\n",
        "01jupyter$ perf stat -e instructions -e fp_arith_inst_retired.scalar_double -e LLC-load-misses -e L1-dcache-load-misses -e cycles ./ax_plus_b_many 24 17 6\n",
        "scan 16777216 elements 64 times (1073741824 accesses) with stride 17\n",
        "y = 1072668062.124269\n",
        "\n",
        " Performance counter stats for './ax_plus_b_many 24 17 6':\n",
        "\n",
        "     6,511,262,691      instructions              #    0.22  insn per cycle\n",
        "     2,147,483,648      fp_arith_inst_retired.scalar_double\n",
        "       719,379,578      LLC-load-misses\n",
        "     1,084,287,956      L1-dcache-load-misses\n",
        "    29,678,462,806      cycles\n",
        "\n",
        "       7.965104255 seconds time elapsed\n",
        "\n",
        "       7.821387000 seconds user\n",
        "       0.062858000 seconds sys\n",
        "```\n",
        "\n",
        "* $m = 2^{24}$, $n = 2^{6}$ だから合計で以下の文(fmadd)を $2^{30}$回実行している\n",
        "```\n",
        "      y += a * X[j & mask];\n",
        "```\n",
        "* この結果と fp_arith_inst_retired.scalar_doubleが2,147,483,648 ($2^{31}$)回という結果は一貫している(fmaddは2と数えられている)\n",
        "* L1-dcache-load-misses は L1キャシュのミスの回数を数えているものでこれがほぼ$2^{30}$であるということから, `X[j & mask]`を一回アクセスする度にキャッシュミスを起こしているであろうことがわかる\n",
        "* 少し小さいが同じことが `LLC-load-misses` (LLC = Last Level Cache, つまりL3キャッシュ)についても言える. ほぼ全てのアクセスが主記憶からのアクセスとなっている\n",
        "* 1回のfmaddあたりにかかっているcycles 数は 14程度\n",
        "* ここでは詳しく説明しないが, 主記憶アクセスの遅延は100以上あって, このプログラムではそれでも複数の主記憶アクセスが並行して(オーバーラップして)起きるために, 1回あたりの (見かけ上の) cycles 数は 14程度で収まっている\n",
        "* それでも, 浮動小数点演算が「1サイクルに2つ」行えるのと比べると, 主記憶のデータを処理する速度は非常に遅いことがわかると思う\n",
        ""
      ]
    },
    {
      "cell_type": "markdown",
      "metadata": {
        "kernel": "SoS",
        "nbgrader": {
          "grade": false,
          "grade_id": "c-050",
          "locked": true,
          "schema_version": 3,
          "solution": false,
          "task": false
        }
      },
      "source": [
        "\n",
        "* 色々なケースでの結果\n",
        "\n",
        "| m          | n          | s  | instructions  | scalar_double | LLC-load-misses | L1-dcache-load-misses | cycles         | elapsed |\n",
        "|------------|------------|----|---------------|---------------|-----------------|-----------------------|----------------|---------|\n",
        "| $2^{10}$ | $2^{20}$ | 1  | 6,458,848,683 | 2,147,483,648 | 1,450           | 100,796               | 4,304,680,761  |1.237    |\n",
        "| $2^{24}$ | $2^{6}$  | 1  | 6,461,952,180 | 2,147,483,648 | 56,276          | 138,519,764           | 4,825,056,440  |1.382    |\n",
        "| $2^{10}$ | $2^{20}$ | 17 | 6,454,001,676 | 2,147,483,648 | 788             | 41,172                | 4,299,026,420  |1.232    |\n",
        "| $2^{24}$ | $2^{6}$  | 17 | 6,464,021,032 | 2,147,483,648 | 730,137,023     | 1,078,079,987         | 26,182,325,529 |7.499    |\n",
        "\n",
        "* どのケースでも命令数や演算数(scalar_double)はかわらない\n",
        "* $m$が大きいケースでも$s = 1$ならばキャッシュミスはそこまで多くはならない\n",
        ""
      ]
    },
    {
      "cell_type": "markdown",
      "metadata": {
        "kernel": "SoS",
        "nbgrader": {
          "grade": false,
          "grade_id": "c-051",
          "locked": true,
          "schema_version": 3,
          "solution": false,
          "task": false
        }
      },
      "source": [
        "<font color=\"blue\">on Oakbridge CX</font> "
      ]
    },
    {
      "cell_type": "code",
      "metadata": {
        "kernel": "Bash",
        "nbgrader": {
          "grade": false,
          "grade_id": "c-052",
          "locked": false,
          "schema_version": 3,
          "solution": false,
          "task": false
        }
      },
      "source": [
        "#\n",
        "perf stat -e instructions -e fp_arith_inst_retired.scalar_double -e LLC-load-misses -e L1-dcache-load-misses -e cycles ./ax_plus_b_many 10 1 20"
      ],
      "execution_count": null,
      "outputs": []
    },
    {
      "cell_type": "markdown",
      "metadata": {
        "kernel": "SoS",
        "nbgrader": {
          "grade": false,
          "grade_id": "c-053",
          "locked": true,
          "schema_version": 3,
          "solution": false,
          "task": false
        }
      },
      "source": [
        "<font color=\"blue\">on Oakbridge CX</font> "
      ]
    },
    {
      "cell_type": "code",
      "metadata": {
        "kernel": "Bash",
        "nbgrader": {
          "grade": false,
          "grade_id": "c-054",
          "locked": false,
          "schema_version": 3,
          "solution": false,
          "task": false
        }
      },
      "source": [
        "#\n",
        "perf stat -e instructions -e fp_arith_inst_retired.scalar_double -e LLC-load-misses -e L1-dcache-load-misses -e cycles ./ax_plus_b_many 24 1 6"
      ],
      "execution_count": null,
      "outputs": []
    },
    {
      "cell_type": "markdown",
      "metadata": {
        "kernel": "SoS",
        "nbgrader": {
          "grade": false,
          "grade_id": "c-055",
          "locked": true,
          "schema_version": 3,
          "solution": false,
          "task": false
        }
      },
      "source": [
        "<font color=\"blue\">on Oakbridge CX</font> "
      ]
    },
    {
      "cell_type": "code",
      "metadata": {
        "kernel": "Bash",
        "nbgrader": {
          "grade": false,
          "grade_id": "c-056",
          "locked": false,
          "schema_version": 3,
          "solution": false,
          "task": false
        }
      },
      "source": [
        "#\n",
        "perf stat -e instructions -e fp_arith_inst_retired.scalar_double -e LLC-load-misses -e L1-dcache-load-misses -e cycles ./ax_plus_b_many 10 17 20"
      ],
      "execution_count": null,
      "outputs": []
    },
    {
      "cell_type": "markdown",
      "metadata": {
        "kernel": "SoS",
        "nbgrader": {
          "grade": false,
          "grade_id": "c-057",
          "locked": true,
          "schema_version": 3,
          "solution": false,
          "task": false
        }
      },
      "source": [
        "<font color=\"blue\">on Oakbridge CX</font> "
      ]
    },
    {
      "cell_type": "code",
      "metadata": {
        "kernel": "Bash",
        "nbgrader": {
          "grade": false,
          "grade_id": "c-058",
          "locked": false,
          "schema_version": 3,
          "solution": false,
          "task": false
        }
      },
      "source": [
        "#\n",
        "perf stat -e instructions -e fp_arith_inst_retired.scalar_double -e LLC-load-misses -e L1-dcache-load-misses -e cycles ./ax_plus_b_many 24 17 6"
      ],
      "execution_count": null,
      "outputs": []
    },
    {
      "cell_type": "markdown",
      "metadata": {
        "kernel": "SoS",
        "nbgrader": {
          "grade": false,
          "grade_id": "c-059",
          "locked": true,
          "schema_version": 3,
          "solution": false,
          "task": false
        }
      },
      "source": [
        "\n",
        "# 7. プログラム内からの測定",
        "\n",
        " * timeやperfコマンドはプログラムのイベントを測る手軽な手段\n",
        " * プログラムの書き換えも必要がなく, これで済むうちはそれらを使えばよい\n",
        "\n",
        " * 一方それらはプログラムの実行「全体」に渡る測定しか出来ない\n",
        " * 通常, 最適化をしているときはプログラムのある一部分に注目して変更・測定を繰り返す\n",
        " * プログラム実行時間のうちそこが99%を占める(またはそうできる)のであればコマンドで全体を測るので十分だが, そうは出来ない場合もある\n",
        " * 複数のコア(スレッド)を使って動作しているプログラムの一スレッドだけを測定したい場合もある\n",
        " * それらの場合にはプログラムの内部に測定コードを挿入して測定する必要がある\n",
        ""
      ]
    },
    {
      "cell_type": "markdown",
      "metadata": {
        "kernel": "SoS",
        "nbgrader": {
          "grade": false,
          "grade_id": "c-060",
          "locked": true,
          "schema_version": 3,
          "solution": false,
          "task": false
        }
      },
      "source": [
        "\n",
        "## 7-1. 経過時間",
        "\n",
        " * およそどんなOSでも, 「現在時刻」を教えてくれる関数が備わっている\n",
        " * Linux: <a href=\"https://linuxjm.osdn.jp/html/LDP_man-pages/man2/clock_getres.2.html\">clock_gettime</a> (nano ($10^{-9}$)秒単位), <a href=\"https://linuxjm.osdn.jp/html/LDP_man-pages/man2/gettimeofday.2.html\">gettimeofday</a> ($\\mu$ ($10^{-6}$)秒単位)\n",
        " * Mac OS: gettimeofday\n",
        " * Windows: QueryPerformanceCounter\n",
        ""
      ]
    },
    {
      "cell_type": "markdown",
      "metadata": {
        "kernel": "SoS",
        "nbgrader": {
          "grade": false,
          "grade_id": "c-061",
          "locked": true,
          "schema_version": 3,
          "solution": false,
          "task": false
        }
      },
      "source": [
        "\n",
        "## 7-2. clock_gettimeofday",
        "\n",
        " * Linuxならこれを使う (他のOSに気を使うなら gettimeofday)\n",
        " * `#include <time.h>`して `clock_gettimeofday` を呼び出すだけ\n",
        " * 単位はnano 秒\n",
        " * 1 nano秒は 1 GHzのプロセッサが1サイクルを刻む時間. 普通のプロセッサの周波数は2〜3 GHz程度なので, 実時間としてはこれ以上細かくしても意味はないというくらい細かい\n",
        " * 単位がnano秒であることと, 測定結果の精度は別問題だがLinuxではかなりの精度を期待して良い\n",
        " * 測定値の取扱い上の注意としては, 測定のための関数呼び出しその他のオーバーヘッド(数十サイクル)があるということ\n",
        ""
      ]
    },
    {
      "cell_type": "code",
      "metadata": {
        "kernel": "Python 3 (ipykernel)",
        "nbgrader": {
          "grade": false,
          "grade_id": "c-062",
          "locked": false,
          "schema_version": 3,
          "solution": false,
          "task": false
        }
      },
      "source": [
        "%%writefile ax_plus_b_clock_gettime.c\n",
        "#include <stdio.h>\n",
        "#include <stdlib.h>\n",
        "#include <time.h>\n",
        "\n",
        "long cur_time_ns() {\n",
        "  struct timespec ts[1];\n",
        "  clock_gettime(CLOCK_REALTIME, ts);\n",
        "  return ts->tv_sec * 1000000000L + ts->tv_nsec;\n",
        "}\n",
        "\n",
        "float ax_plus_b(float a, float b, float x, long n) {\n",
        "  for (long j = 0; j < n; j++) {\n",
        "    x = a * x + b;\n",
        "  }\n",
        "  return x;\n",
        "}\n",
        "\n",
        "int main(int argc, char ** argv) {\n",
        "  long n = (argc > 1 ? atol(argv[1]) : 1000L * 1000L * 1000L);\n",
        "  float a = (argc > 2 ? atof(argv[2]) : 0.999);\n",
        "  float b = (argc > 3 ? atof(argv[3]) : 0.12345);\n",
        "  long t0 = cur_time_ns();\n",
        "  float x = ax_plus_b(a, b, 1.0, n);\n",
        "  long t1 = cur_time_ns();\n",
        "  long dt = t1 - t0;\n",
        "  printf(\"x = %f\\n\", x);\n",
        "  printf(\"elapsed %ld nano sec\\n\", dt);\n",
        "  printf(\"%f nano sec/fmadd\\n\", dt/(double)n);\n",
        "  return 0;\n",
        "}"
      ],
      "execution_count": null,
      "outputs": []
    },
    {
      "cell_type": "code",
      "metadata": {
        "kernel": "Bash",
        "nbgrader": {
          "grade": false,
          "grade_id": "c-063",
          "locked": false,
          "schema_version": 3,
          "solution": false,
          "task": false
        }
      },
      "source": [
        "gcc -O3 -march=native ax_plus_b_clock_gettime.c -o ax_plus_b_clock_gettime"
      ],
      "execution_count": null,
      "outputs": []
    },
    {
      "cell_type": "code",
      "metadata": {
        "kernel": "Bash",
        "nbgrader": {
          "grade": false,
          "grade_id": "c-064",
          "locked": false,
          "schema_version": 3,
          "solution": false,
          "task": false
        }
      },
      "source": [
        "./ax_plus_b_clock_gettime"
      ],
      "execution_count": null,
      "outputs": []
    },
    {
      "cell_type": "markdown",
      "metadata": {
        "kernel": "SoS",
        "nbgrader": {
          "grade": false,
          "grade_id": "c-065",
          "locked": true,
          "schema_version": 3,
          "solution": false,
          "task": false
        }
      },
      "source": [
        "\n",
        "## 7-3. _rdtsc()",
        "\n",
        "* プロセッサの reference cycle を比較的簡単に得る関数\n",
        "* `#include <x86intrin.h>` として `_rdtsc()`を呼び出すだけ\n",
        "* Intel x86系 CPUが持つ rdtsc という命令に対応した関数で, x86系でしか使えない(多くのCPUには名前は違えど同じ機能の命令がある)\n",
        ""
      ]
    },
    {
      "cell_type": "code",
      "metadata": {
        "kernel": "Python 3 (ipykernel)",
        "nbgrader": {
          "grade": false,
          "grade_id": "c-066",
          "locked": false,
          "schema_version": 3,
          "solution": false,
          "task": false
        }
      },
      "source": [
        "%%writefile ax_plus_b_rdstc.c\n",
        "#include <stdio.h>\n",
        "#include <stdlib.h>\n",
        "#include <x86intrin.h>\n",
        "\n",
        "float ax_plus_b(float a, float b, float x, long n) {\n",
        "  for (long j = 0; j < n; j++) {\n",
        "    x = a * x + b;\n",
        "  }\n",
        "  return x;\n",
        "}\n",
        "\n",
        "int main(int argc, char ** argv) {\n",
        "  long n = (argc > 1 ? atol(argv[1]) : 1000L * 1000L * 1000L);\n",
        "  float a = (argc > 2 ? atof(argv[2]) : 0.999);\n",
        "  float b = (argc > 3 ? atof(argv[3]) : 0.12345);\n",
        "  long long t0 = _rdtsc();\n",
        "  float x = ax_plus_b(a, b, 1.0, n);\n",
        "  long long t1 = _rdtsc();\n",
        "  long dt = t1 - t0;\n",
        "  printf(\"x = %f\\n\", x);\n",
        "  printf(\"elapsed %ld ref-cycles\\n\", dt);\n",
        "  printf(\"%f ref-cycles/fmadd\\n\", dt/(double)n);\n",
        "  return 0;\n",
        "}\n",
        ""
      ],
      "execution_count": null,
      "outputs": []
    },
    {
      "cell_type": "code",
      "metadata": {
        "kernel": "Bash",
        "nbgrader": {
          "grade": false,
          "grade_id": "c-067",
          "locked": false,
          "schema_version": 3,
          "solution": false,
          "task": false
        }
      },
      "source": [
        "gcc -O3 -march=native ax_plus_b_rdtsc.c -o ax_plus_b_rdtsc"
      ],
      "execution_count": null,
      "outputs": []
    },
    {
      "cell_type": "code",
      "metadata": {
        "kernel": "Bash",
        "nbgrader": {
          "grade": false,
          "grade_id": "c-068",
          "locked": false,
          "schema_version": 3,
          "solution": false,
          "task": false
        }
      },
      "source": [
        "./ax_plus_b_rdtsc"
      ],
      "execution_count": null,
      "outputs": []
    },
    {
      "cell_type": "markdown",
      "metadata": {
        "kernel": "SoS",
        "nbgrader": {
          "grade": false,
          "grade_id": "c-069",
          "locked": true,
          "schema_version": 3,
          "solution": false,
          "task": false
        }
      },
      "source": [
        "\n",
        "* reference cyclesなのでperfのcyclesを見た時のようにほぼピッタリ5 cycles/fmaddということにはならない\n",
        "* その意味では実時間を測るのと大差はないが, それでも5に近い値が出ることで自分の理解との一致を確かめることは気分的にやさしくなる(周波数が2.3 GHzだからnano秒にx 2.3するみたいなことはしなくてよい)\n",
        ""
      ]
    },
    {
      "cell_type": "markdown",
      "metadata": {
        "kernel": "SoS",
        "nbgrader": {
          "grade": false,
          "grade_id": "c-070",
          "locked": true,
          "schema_version": 3,
          "solution": false,
          "task": false
        }
      },
      "source": [
        "## 7-4. Linux perfをプログラムから使う",
        "\n",
        "* perfコマンドが表示するような様々なイベントの回数を, プログラムの一部分に対してのみ測定することも出来る\n",
        "* しかしそれにはそれなりのプログラミングが必要でここでそれを全部解説することはできないので, それを簡単に使えるようにしたものを(こちらで)用意したのでそれを使う\n",
        "* その使い方は以下(以下はこのページ上で実行しても失敗しますが気にしないで下さい)\n",
        "* Oakbridge CXでやりたい人は, Oakbridge CX上での演習用のコードに収納しているのでそちらを試して下さい\n",
        ""
      ]
    },
    {
      "cell_type": "code",
      "metadata": {
        "kernel": "Python 3 (ipykernel)",
        "nbgrader": {
          "grade": false,
          "grade_id": "c-071",
          "locked": false,
          "schema_version": 3,
          "solution": false,
          "task": false
        }
      },
      "source": [
        "%%writefile ax_plus_b_pfm.c\n",
        "#include <stdio.h>\n",
        "#include <stdlib.h>\n",
        "#include \"counter.h\"\n",
        "\n",
        "float ax_plus_b(float a, float b, float x, long n) {\n",
        "  for (long j = 0; j < n; j++) {\n",
        "    x = a * x + b;\n",
        "  }\n",
        "  return x;\n",
        "}\n",
        "\n",
        "int main(int argc, char ** argv) {\n",
        "  long n = (argc > 1 ? atol(argv[1]) : 1000L * 1000L * 1000L);\n",
        "  float a = (argc > 2 ? atof(argv[2]) : 0.999);\n",
        "  float b = (argc > 3 ? atof(argv[3]) : 0.12345);\n",
        "  profiler_t pr = mk_profiler();\n",
        "  float x = ax_plus_b(a, b, 1.0, n);\n",
        "  counters_t c = profiler_get(pr);\n",
        "  printf(\"x = %f\\n\", x);\n",
        "  for (int i = 0; i < c.n; i++) {\n",
        "    printf(\"%20s: %ld\\n\", c.names[i], c.values[i]);\n",
        "  }\n",
        "  printf(\"%20s: %ld\\n\", \"ref cycles\", c.tsc);\n",
        "  printf(\"%20s: %.3f\\n\", \"time\", c.ns * 1.0e-9);\n",
        "  return 0;\n",
        "}\n",
        ""
      ],
      "execution_count": null,
      "outputs": []
    },
    {
      "cell_type": "code",
      "metadata": {
        "kernel": "Bash",
        "nbgrader": {
          "grade": false,
          "grade_id": "c-072",
          "locked": false,
          "schema_version": 3,
          "solution": false,
          "task": false
        }
      },
      "source": [
        "gcc -O3 -march=native ax_plus_b_pfm.c -o ax_plus_b_pfm"
      ],
      "execution_count": null,
      "outputs": []
    },
    {
      "cell_type": "markdown",
      "metadata": {
        "kernel": "SoS",
        "nbgrader": {
          "grade": false,
          "grade_id": "c-073",
          "locked": true,
          "schema_version": 3,
          "solution": false,
          "task": false
        }
      },
      "source": [
        "<font color=\"blue\">on Oakbridge CX</font> "
      ]
    },
    {
      "cell_type": "code",
      "metadata": {
        "kernel": "Bash",
        "nbgrader": {
          "grade": false,
          "grade_id": "c-074",
          "locked": false,
          "schema_version": 3,
          "solution": false,
          "task": false
        }
      },
      "source": [
        "./ax_plus_b_pfm"
      ],
      "execution_count": null,
      "outputs": []
    },
    {
      "cell_type": "markdown",
      "metadata": {
        "kernel": "SoS",
        "nbgrader": {
          "grade": false,
          "grade_id": "c-075",
          "locked": true,
          "schema_version": 3,
          "solution": false,
          "task": false
        }
      },
      "source": [
        "\n",
        " * 使い方の基本:\n",
        " * `#include \"counter.h\"` して\n",
        " * 計測したい部分 (...) を\n",
        "```\n",
        "  profiler_t c = mk_profiler();\n",
        "    ...\n",
        "  counters_t c = profiler_get(pr);\n",
        "```\n",
        "で挟む.\n",
        "\n",
        "* c.values[0] には processor cycle 数\n",
        "* c.values[1] には 命令数\n",
        "* c.values[2] には 分岐命令数\n",
        "\n",
        "が入っている.\n",
        "\n",
        "* mk_counters() 関数の中を少し修正すれば他のものを計測することもできる.\n",
        ""
      ]
    }
  ],
  "metadata": {
    "celltoolbar": "Create Assignment",
    "kernelspec": {
      "display_name": "SoS",
      "language": "sos",
      "name": "sos"
    },
    "language_info": {
      "codemirror_mode": "sos",
      "file_extension": ".sos",
      "mimetype": "text/x-sos",
      "name": "sos",
      "nbconvert_exporter": "sos_notebook.converter.SoS_Exporter",
      "pygments_lexer": "sos"
    },
    "sos": {
      "kernels": [
        [
          "Bash",
          "bash",
          "bash",
          "",
          "shell"
        ],
        [
          "C",
          "c_kernel",
          "c",
          "",
          ""
        ],
        [
          "Go",
          "gophernotes",
          "go",
          "",
          ""
        ],
        [
          "Julia 1.8.5",
          "julia-1.8",
          "julia",
          "",
          ""
        ],
        [
          "OCaml default",
          "ocaml-jupyter",
          "OCaml",
          "",
          "text/x-ocaml"
        ],
        [
          "Python 3 (ipykernel)",
          "python3",
          "python3",
          "",
          {
            "name": "ipython",
            "version": 3
          }
        ],
        [
          "Rust",
          "rust",
          "rust",
          "",
          ""
        ]
      ],
      "panel": {
        "displayed": true,
        "height": 0
      },
      "version": "0.23.3"
    }
  },
  "nbformat": 4,
  "nbformat_minor": 4
}