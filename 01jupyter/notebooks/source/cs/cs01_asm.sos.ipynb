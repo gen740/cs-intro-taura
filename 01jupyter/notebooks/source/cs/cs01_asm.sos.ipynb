{
  "cells": [
    {
      "cell_type": "markdown",
      "metadata": {
        "kernel": "SoS",
        "nbgrader": {
          "grade": false,
          "grade_id": "c-001",
          "locked": true,
          "schema_version": 3,
          "solution": false,
          "task": false
        }
      },
      "source": [
        "\n",
        "#  高性能プログラミングと性能測定 --- 機械語(アセンブリ)を見る",
        ""
      ]
    },
    {
      "cell_type": "markdown",
      "metadata": {
        "kernel": "SoS",
        "nbgrader": {
          "grade": false,
          "grade_id": "c-002",
          "locked": true,
          "schema_version": 3,
          "solution": false,
          "task": false
        }
      },
      "source": [
        "\n",
        "# 1. 概要",
        "\n",
        "* 機械語(アセンブリ言語)を用いなくてもプログラミングできるようになるのが高級言語の存在意義だが, 性能を追求する場合はC/C++言語から機械語の対応関係を, なんとなくでも把握できていないと正確な話はできない\n",
        "\n",
        "* 極める必要はないが, 対応関係の「おおよそのところ」が把握できるようになるのが目標\n",
        ""
      ]
    },
    {
      "cell_type": "markdown",
      "metadata": {
        "kernel": "SoS",
        "nbgrader": {
          "grade": false,
          "grade_id": "c-003",
          "locked": true,
          "schema_version": 3,
          "solution": false,
          "task": false
        }
      },
      "source": [
        "\n",
        "# 2. コンパイラの出力を見る",
        "\n",
        "* GCC, Intel Compilerなど大概のコンパイラは`-S`オプションで, アセンブリ言語を生成できる\n",
        "* これを用いてCのコードからどのようなコードが生成されたかを見てみる\n",
        "* 性能をあげようと思ったコードの変更が裏目に出て遅くなるなど, 色々な場面でこれが必要になる\n",
        "* 性能を追求するときは大概, 最適化オプション(-O3)をつけるので, -O3と併用した方がよい\n",
        "* 各CPUの命令セットをフルに使うために -march=native をつける\n",
        ""
      ]
    },
    {
      "cell_type": "markdown",
      "metadata": {
        "kernel": "SoS",
        "nbgrader": {
          "grade": false,
          "grade_id": "c-004",
          "locked": true,
          "schema_version": 3,
          "solution": false,
          "task": false
        }
      },
      "source": [
        "\n",
        "## 2-1. 足し算, 掛け算, 足し算/掛け算 するだけの単純な関数",
        ""
      ]
    },
    {
      "cell_type": "code",
      "metadata": {
        "kernel": "Python 3 (ipykernel)",
        "nbgrader": {
          "grade": false,
          "grade_id": "c-005",
          "locked": false,
          "schema_version": 3,
          "solution": false,
          "task": false
        }
      },
      "source": [
        "%%writefile add_mul.c\n",
        "\n",
        "float add(float x, float y) {\n",
        "  return x + y;\n",
        "}\n",
        "\n",
        "float mul(float x, float y) {\n",
        "  return x * y;\n",
        "}\n",
        "\n",
        "float muladd(float x, float y, float z) {\n",
        "  return x * y + z;\n",
        "}"
      ],
      "execution_count": null,
      "outputs": []
    },
    {
      "cell_type": "code",
      "metadata": {
        "kernel": "Bash",
        "nbgrader": {
          "grade": false,
          "grade_id": "c-006",
          "locked": false,
          "schema_version": 3,
          "solution": false,
          "task": false
        }
      },
      "source": [
        "gcc -march=native -O3 -S add_mul.c\n",
        "cat add_mul.s"
      ],
      "execution_count": null,
      "outputs": []
    },
    {
      "cell_type": "markdown",
      "metadata": {
        "kernel": "SoS",
        "nbgrader": {
          "grade": false,
          "grade_id": "c-007",
          "locked": true,
          "schema_version": 3,
          "solution": false,
          "task": false
        }
      },
      "source": [
        "\n",
        "注目点\n",
        "\n",
        "* 関数名に対応するラベル(add, mul, muladdなど)がアセンブリ内にもある\n",
        "* 掛け算や足し算から生成されている命令はなにか?\n",
        "* 掛け算+足し算を一撃で行う命令 (fmadd) 命令があるようだ\n",
        "* 使われている命令はスカラー(1要素用)命令か, SIMD (複数要素用)命令か? どうやって区別するんだっけ?\n",
        ""
      ]
    },
    {
      "cell_type": "markdown",
      "metadata": {
        "kernel": "SoS",
        "nbgrader": {
          "grade": false,
          "grade_id": "c-008",
          "locked": true,
          "schema_version": 3,
          "solution": false,
          "task": false
        }
      },
      "source": [
        "\n",
        "## 2-2. ループを含む例",
        ""
      ]
    },
    {
      "cell_type": "code",
      "metadata": {
        "kernel": "Python 3 (ipykernel)",
        "nbgrader": {
          "grade": false,
          "grade_id": "c-009",
          "locked": false,
          "schema_version": 3,
          "solution": false,
          "task": false
        }
      },
      "source": [
        "%%writefile loop.c\n",
        "\n",
        "float loop(float x, float a, float b, long n) {\n",
        "  for (long i = 0; i < n; i++) {\n",
        "    x = a * x + b;\n",
        "  }\n",
        "  return x;\n",
        "}"
      ],
      "execution_count": null,
      "outputs": []
    },
    {
      "cell_type": "code",
      "metadata": {
        "kernel": "Bash",
        "nbgrader": {
          "grade": false,
          "grade_id": "c-010",
          "locked": false,
          "schema_version": 3,
          "solution": false,
          "task": false
        }
      },
      "source": [
        "gcc -march=native -O3 -S loop.c\n",
        "cat loop.s"
      ],
      "execution_count": null,
      "outputs": []
    },
    {
      "cell_type": "markdown",
      "metadata": {
        "kernel": "SoS",
        "nbgrader": {
          "grade": false,
          "grade_id": "c-011",
          "locked": true,
          "schema_version": 3,
          "solution": false,
          "task": false
        }
      },
      "source": [
        "\n",
        "注目点\n",
        "\n",
        "* ループがあると, ループ先頭に戻るジャンプ命令 (jで始まる命令)とループ先頭のラベルが生成される. こんな感じ\n",
        "```\n",
        ".L3\n",
        "   ...\n",
        "   ...\n",
        "   ...\n",
        "   ...\n",
        "   jXX .L3\n",
        "```\n",
        "\n",
        "* 一般にコンパイラは最適化(高速化)として, ループの内部の命令を最小化しようとする\n",
        ""
      ]
    },
    {
      "cell_type": "markdown",
      "metadata": {
        "kernel": "SoS",
        "nbgrader": {
          "grade": false,
          "grade_id": "c-012",
          "locked": true,
          "schema_version": 3,
          "solution": false,
          "task": false
        }
      },
      "source": [
        "\n",
        "* 少しでもコードが複雑になると自分が注目している部分がどう翻訳されているのかを見つけることが困難になる\n",
        "* そのための有用なテク. コード中に以下のような文(asm volatile(\"# ...\"))を挿入する\n",
        ""
      ]
    },
    {
      "cell_type": "code",
      "metadata": {
        "kernel": "Python 3 (ipykernel)",
        "nbgrader": {
          "grade": false,
          "grade_id": "c-013",
          "locked": false,
          "schema_version": 3,
          "solution": false,
          "task": false
        }
      },
      "source": [
        "%%writefile loop2.c\n",
        "\n",
        "float loop2(float x, float a, float b, long n) {\n",
        "  for (long i = 0; i < n; i++) {\n",
        "    x = b * x + a;\n",
        "    asm volatile(\"# ==========\");\n",
        "    for (long j = 0; j < n; j++) {\n",
        "      x = a * x + b;\n",
        "    }\n",
        "    asm volatile(\"# ----------\");\n",
        "  }\n",
        "  return x;\n",
        "}"
      ],
      "execution_count": null,
      "outputs": []
    },
    {
      "cell_type": "code",
      "metadata": {
        "kernel": "Bash",
        "nbgrader": {
          "grade": false,
          "grade_id": "c-014",
          "locked": false,
          "schema_version": 3,
          "solution": false,
          "task": false
        }
      },
      "source": [
        "gcc -march=native -O3 -S loop2.c\n",
        "cat loop2.s"
      ],
      "execution_count": null,
      "outputs": []
    },
    {
      "cell_type": "markdown",
      "metadata": {
        "kernel": "SoS",
        "nbgrader": {
          "grade": false,
          "grade_id": "c-015",
          "locked": true,
          "schema_version": 3,
          "solution": false,
          "task": false
        }
      },
      "source": [
        "\n",
        "* 見ての通り\"# ==========\"や\"# ----------\"が翻訳結果にそのまま挿入される\n",
        "* おそらくその間に挟まれた部分が, 元々のプログラムに置いても asm volatile(\"# ==========\"); と asm volatile(\"# ----------\"); に挟まれた部分\n",
        "* よって注目したい部分を適当な asm volatile で挟めば良い"
      ]
    },
    {
      "cell_type": "markdown",
      "metadata": {
        "kernel": "SoS",
        "nbgrader": {
          "grade": false,
          "grade_id": "c-016",
          "locked": true,
          "schema_version": 3,
          "solution": false,
          "task": false
        }
      },
      "source": [
        "\n",
        "## 2-3. メモリアクセスを含む例",
        "\n",
        "### 2-3-1. 配列の要素読み込み (ロード命令)",
        "\n",
        "* Intelのアセンブリの文法では, `(レジスタ名)` でそのレジスタに入っているアドレスをアクセスするという意味になる\n",
        ""
      ]
    },
    {
      "cell_type": "code",
      "metadata": {
        "kernel": "Python 3 (ipykernel)",
        "nbgrader": {
          "grade": false,
          "grade_id": "c-017",
          "locked": false,
          "schema_version": 3,
          "solution": false,
          "task": false
        }
      },
      "source": [
        "%%writefile load.c\n",
        "\n",
        "float load(float * a, long n) {\n",
        "  float s = 0.0;\n",
        "  asm volatile(\"# ==========\");\n",
        "  for (long i = 0; i < n; i++) {\n",
        "    s += a[i];\n",
        "  }\n",
        "  asm volatile(\"# ----------\");\n",
        "  return s;\n",
        "}"
      ],
      "execution_count": null,
      "outputs": []
    },
    {
      "cell_type": "code",
      "metadata": {
        "kernel": "Bash",
        "nbgrader": {
          "grade": false,
          "grade_id": "c-018",
          "locked": false,
          "schema_version": 3,
          "solution": false,
          "task": false
        }
      },
      "source": [
        "gcc -O3 -march=native -S load.c\n",
        "cat load.s"
      ],
      "execution_count": null,
      "outputs": []
    },
    {
      "cell_type": "markdown",
      "metadata": {
        "kernel": "SoS",
        "nbgrader": {
          "grade": false,
          "grade_id": "c-019",
          "locked": true,
          "schema_version": 3,
          "solution": false,
          "task": false
        }
      },
      "source": [
        "\n",
        "注目点:\n",
        "\n",
        "* a[i] の読み出しに対応する命令はどれか?\n",
        ""
      ]
    },
    {
      "cell_type": "markdown",
      "metadata": {
        "kernel": "SoS",
        "nbgrader": {
          "grade": false,
          "grade_id": "c-020",
          "locked": true,
          "schema_version": 3,
          "solution": false,
          "task": false
        }
      },
      "source": [
        "\n",
        "### 2-3-2. 配列の要素書き込み (ストア命令)",
        ""
      ]
    },
    {
      "cell_type": "code",
      "metadata": {
        "kernel": "Python 3 (ipykernel)",
        "nbgrader": {
          "grade": false,
          "grade_id": "c-021",
          "locked": false,
          "schema_version": 3,
          "solution": false,
          "task": false
        }
      },
      "source": [
        "%%writefile store.c\n",
        "\n",
        "void store(float * a, long n) {\n",
        "  asm volatile(\"# ==========\");\n",
        "  for (long i = 0; i < n; i++) {\n",
        "    a[i] = i;\n",
        "  }\n",
        "  asm volatile(\"# ----------\");\n",
        "}"
      ],
      "execution_count": null,
      "outputs": []
    },
    {
      "cell_type": "code",
      "metadata": {
        "kernel": "Bash",
        "nbgrader": {
          "grade": false,
          "grade_id": "c-022",
          "locked": false,
          "schema_version": 3,
          "solution": false,
          "task": false
        }
      },
      "source": [
        "gcc -O3 -march=native -S store.c\n",
        "cat store.s"
      ],
      "execution_count": null,
      "outputs": []
    },
    {
      "cell_type": "markdown",
      "metadata": {
        "kernel": "SoS",
        "nbgrader": {
          "grade": false,
          "grade_id": "c-023",
          "locked": true,
          "schema_version": 3,
          "solution": false,
          "task": false
        }
      },
      "source": [
        "\n",
        "注目点:\n",
        "\n",
        "* a[i] への書き込みに対応する命令はどれか?\n",
        ""
      ]
    },
    {
      "cell_type": "markdown",
      "metadata": {
        "kernel": "SoS",
        "nbgrader": {
          "grade": false,
          "grade_id": "c-024",
          "locked": true,
          "schema_version": 3,
          "solution": false,
          "task": false
        }
      },
      "source": [
        "### 2-3-3. 構造体へのポインタ",
        "\n",
        " * 例えば以下の abc という構造体では, a, b, cという3つの要素が4バイト(float)ずつ離れて並ぶ\n",
        " * p->a, p->b, p->cがそれぞれどこをアクセスしているかを観察せよ"
      ]
    },
    {
      "cell_type": "code",
      "metadata": {
        "kernel": "Python 3 (ipykernel)",
        "nbgrader": {
          "grade": false,
          "grade_id": "c-025",
          "locked": false,
          "schema_version": 3,
          "solution": false,
          "task": false
        }
      },
      "source": [
        "%%writefile struct.c\n",
        "\n",
        "typedef struct {\n",
        "  float a;\n",
        "  float b;\n",
        "  float c;\n",
        "} abc;\n",
        "\n",
        "float ab_plus_c(abc * p) {\n",
        "  return p->a * p->b + p->c;\n",
        "}"
      ],
      "execution_count": null,
      "outputs": []
    },
    {
      "cell_type": "code",
      "metadata": {
        "kernel": "Bash",
        "nbgrader": {
          "grade": false,
          "grade_id": "c-026",
          "locked": false,
          "schema_version": 3,
          "solution": false,
          "task": false
        }
      },
      "source": [
        "gcc -O3 -march=native -S struct.c\n",
        "cat struct.s"
      ],
      "execution_count": null,
      "outputs": []
    },
    {
      "cell_type": "markdown",
      "metadata": {
        "kernel": "SoS",
        "nbgrader": {
          "grade": false,
          "grade_id": "c-027",
          "locked": true,
          "schema_version": 3,
          "solution": false,
          "task": false
        }
      },
      "source": [
        "\n",
        "注目点:\n",
        "\n",
        "* p->a, p->b, p->c などの読み出しに対応している命令はどれか?\n",
        "* 配列の要素であろうと構造体の要素であろうと, 機械語レベルで使う命令は同じ\n",
        ""
      ]
    },
    {
      "cell_type": "markdown",
      "metadata": {
        "kernel": "SoS",
        "nbgrader": {
          "grade": false,
          "grade_id": "c-028",
          "locked": true,
          "schema_version": 3,
          "solution": false,
          "task": false
        }
      },
      "source": [
        "\n",
        "### 2-3-4. 構造体の配列"
      ]
    },
    {
      "cell_type": "code",
      "metadata": {
        "kernel": "Python 3 (ipykernel)",
        "nbgrader": {
          "grade": false,
          "grade_id": "c-029",
          "locked": false,
          "schema_version": 3,
          "solution": false,
          "task": false
        }
      },
      "source": [
        "%%writefile a_of_s.c\n",
        "\n",
        "typedef struct {\n",
        "  float a;\n",
        "  float b;\n",
        "  float c;\n",
        "} abc;\n",
        "\n",
        "float sum_of_b(abc * p, long n) {\n",
        "  float s = 0.0;\n",
        "  asm volatile(\"# ==========\");\n",
        "  for (long i = 0; i < n; i++) {\n",
        "    s += p[i].b;\n",
        "  }\n",
        "  asm volatile(\"# ----------\");\n",
        "  return s;\n",
        "}"
      ],
      "execution_count": null,
      "outputs": []
    },
    {
      "cell_type": "code",
      "metadata": {
        "kernel": "Bash",
        "nbgrader": {
          "grade": false,
          "grade_id": "c-030",
          "locked": false,
          "schema_version": 3,
          "solution": false,
          "task": false
        }
      },
      "source": [
        "gcc -O3 -march=native -S a_of_s.c\n",
        "cat a_of_s.s"
      ],
      "execution_count": null,
      "outputs": []
    }
  ],
  "metadata": {
    "celltoolbar": "Create Assignment",
    "kernelspec": {
      "display_name": "SoS",
      "language": "sos",
      "name": "sos"
    },
    "language_info": {
      "codemirror_mode": "sos",
      "file_extension": ".sos",
      "mimetype": "text/x-sos",
      "name": "sos",
      "nbconvert_exporter": "sos_notebook.converter.SoS_Exporter",
      "pygments_lexer": "sos"
    },
    "sos": {
      "kernels": [
        [
          "Bash",
          "bash",
          "bash",
          "",
          "shell"
        ],
        [
          "C",
          "c_kernel",
          "c",
          "",
          ""
        ],
        [
          "Go",
          "gophernotes",
          "go",
          "",
          ""
        ],
        [
          "Julia 1.8.5",
          "julia-1.8",
          "julia",
          "",
          ""
        ],
        [
          "OCaml default",
          "ocaml-jupyter",
          "OCaml",
          "",
          "text/x-ocaml"
        ],
        [
          "Python 3 (ipykernel)",
          "python3",
          "python3",
          "",
          {
            "name": "ipython",
            "version": 3
          }
        ],
        [
          "Rust",
          "rust",
          "rust",
          "",
          ""
        ]
      ],
      "panel": {
        "displayed": true,
        "height": 0
      },
      "version": "0.23.3"
    }
  },
  "nbformat": 4,
  "nbformat_minor": 4
}