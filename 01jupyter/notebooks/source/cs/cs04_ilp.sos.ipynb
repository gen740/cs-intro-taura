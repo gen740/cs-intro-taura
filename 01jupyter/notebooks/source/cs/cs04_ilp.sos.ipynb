{
  "cells": [
    {
      "cell_type": "markdown",
      "metadata": {
        "kernel": "SoS",
        "nbgrader": {
          "grade": false,
          "grade_id": "c-001",
          "locked": true,
          "schema_version": 3,
          "solution": false,
          "task": false
        }
      },
      "source": [
        "\n",
        "#  高性能プログラミングと性能測定(4) --- 命令レベル並列性",
        ""
      ]
    },
    {
      "cell_type": "markdown",
      "metadata": {
        "kernel": "SoS",
        "nbgrader": {
          "grade": false,
          "grade_id": "c-002",
          "locked": true,
          "schema_version": 3,
          "solution": false,
          "task": false
        }
      },
      "source": [
        "\n",
        "# 1. 概要",
        "\n",
        "* 積分の計算を題材にSIMDを用いて高速化する手法を学んだ\n",
        "* SIMD化自体はうまくいったが, まだプロセッサ(1コア)の最高性能には遠い\n",
        "* さらに性能をあげるにはプロセッサが複数命令を並行して実行できる仕組み(命令レベル並列性; スーパースカラー並列)をうまく発動させる必要がある\n",
        ""
      ]
    },
    {
      "cell_type": "markdown",
      "metadata": {
        "kernel": "SoS",
        "nbgrader": {
          "grade": false,
          "grade_id": "c-003",
          "locked": true,
          "schema_version": 3,
          "solution": false,
          "task": false
        }
      },
      "source": [
        "\n",
        "# 2. 復習 単純なSIMD化を施した積分の性能",
        "\n",
        "* 前回, 以下のSIMD化されたコードが, ループ1周を(Skylakeで) 4 processor cyclesで実行できることを見た\n",
        "* その理由はvfmaddpd 命令間の依存関係と遅延にあった\n",
        ""
      ]
    },
    {
      "cell_type": "code",
      "metadata": {
        "kernel": "Python 3 (ipykernel)",
        "nbgrader": {
          "grade": false,
          "grade_id": "c-004",
          "locked": false,
          "schema_version": 3,
          "solution": false,
          "task": false
        }
      },
      "source": [
        "%%writefile int_x2_simd.c\n",
        "#include <stdio.h>\n",
        "#include <stdlib.h>\n",
        "\n",
        "/* doubleを8つ並べたデータ型(doublev) */\n",
        "typedef double doublev __attribute__((vector_size(64),aligned(sizeof(double))));\n",
        "enum { n_lanes = sizeof(doublev) / sizeof(double) };\n",
        "\n",
        "double int_x2_simd(double a, double b, long n) {\n",
        "  doublev s = {0,0,0,0,0,0,0,0};\n",
        "  // n をレーン数の倍数に\n",
        "  n += n_lanes - 1;\n",
        "  n -= n % n_lanes;\n",
        "  double dx = (b - a) / (double)n;\n",
        "  doublev x = {a,a+dx,a+2*dx,a+3*dx,a+4*dx,a+5*dx,a+6*dx,a+7*dx};\n",
        "  for (long i = 0; i < n; i += n_lanes) {\n",
        "    s += x * x;\n",
        "    x += n_lanes * dx;\n",
        "  }\n",
        "  return (s[0] + s[1] + s[2] + s[3] + s[4] + s[5] + s[6] + s[7]) * dx;\n",
        "}\n",
        "\n",
        "int main(int argc, char ** argv) {\n",
        "  double a = (argc > 1 ? atof(argv[1]) : 0.0);\n",
        "  double b = (argc > 2 ? atof(argv[2]) : 1.0);\n",
        "  long n   = (argc > 3 ? atof(argv[3]) : 1000L * 1000L * 1000L);\n",
        "  double s = int_x2_simd(a, b, n);\n",
        "  printf(\"s = %f\\n\", s);\n",
        "  return 0;\n",
        "}"
      ],
      "execution_count": null,
      "outputs": []
    },
    {
      "cell_type": "code",
      "metadata": {
        "kernel": "Bash",
        "nbgrader": {
          "grade": false,
          "grade_id": "c-005",
          "locked": false,
          "schema_version": 3,
          "solution": false,
          "task": false
        }
      },
      "source": [
        "gcc -O3 -march=native int_x2_simd.c -o int_x2_simd"
      ],
      "execution_count": null,
      "outputs": []
    },
    {
      "cell_type": "code",
      "metadata": {
        "kernel": "Bash",
        "nbgrader": {
          "grade": false,
          "grade_id": "c-006",
          "locked": false,
          "schema_version": 3,
          "solution": false,
          "task": false
        }
      },
      "source": [
        "./int_x2_simd"
      ],
      "execution_count": null,
      "outputs": []
    },
    {
      "cell_type": "markdown",
      "metadata": {
        "kernel": "SoS",
        "nbgrader": {
          "grade": false,
          "grade_id": "c-007",
          "locked": true,
          "schema_version": 3,
          "solution": false,
          "task": false
        }
      },
      "source": [
        "\n",
        "# 3. プロセッサの限界性能",
        "\n",
        "* 一方でOakbridge CXのプロセッサ(Skylake, Cascade Lake; にかぎらず最近のIntelのCPU)の最高性能は, SIMD化されたfmadd命令を「1サイクルに2個」実行できるというもので, つまり今得られている性能はその性能からは8倍の開きがある(2/1 : 1/4 = 8 : 1)\n",
        "* 1つの命令の実行に4サイクルかかるにもかかわらず, 1サイクルに2個実行できるとはどういうことなのか? \n",
        "* それは, <font color=\"blue\">依存関係のない命令たち</font>は, 前の命令の結果が出るのを待たずして実行を始められる(つまり, 前の命令とオーバーラップして実行できる), という, プロセッサの機能による(<font color=\"blue\">命令レベル並列性, スーパースカラ実行</font>)\n",
        "* SIMD化されたコードで1つのvfmaddpd命令に4サイクルかかっていた理由はそれらが依存関係を持っていたからで, 依存関係を持っていた理由は, 和を計算するために同じ変数sに x * x を足していたからであった(前の足し算が終わらないと次の足し算を始められない).\n",
        "```\n",
        "for (...) {\n",
        "  s += x * x;\n",
        "  ...\n",
        "}\n",
        "```\n",
        "\n",
        "* 命令の遅延自身を(ソフトウェアで工夫をして)縮めることは出来ない\n",
        "* これ以上高速化するには, 和を計算するのに複数の変数を使えば良い(使うしかない)\n",
        "* たとえば 2個の変数 s0, s1を用いて, 半分は s0 に, もう半分は s1 に足していく\n",
        "* やっている計算の量は一切変わらないのだが, s0 を使った計算とs1を使った計算の間には依存関係がなくなるので, 並行して実行できる. つまり, 命令レベル並列性が向上する\n",
        "\n",
        "* それを愚直に行ったものが以下\n",
        ""
      ]
    },
    {
      "cell_type": "code",
      "metadata": {
        "kernel": "Python 3 (ipykernel)",
        "nbgrader": {
          "grade": false,
          "grade_id": "c-008",
          "locked": false,
          "schema_version": 3,
          "solution": false,
          "task": false
        }
      },
      "source": [
        "%%writefile int_x2_simd2.c\n",
        "#include <stdio.h>\n",
        "#include <stdlib.h>\n",
        "typedef double doublev __attribute__((vector_size(64),aligned(sizeof(double))));\n",
        "\n",
        "double int_x2_simd_ilp(double a, double b, long n) {\n",
        "  doublev s0 = { 0.0, 0.0, 0.0, 0.0, 0.0, 0.0, 0.0, 0.0 };\n",
        "  doublev s1 = { 0.0, 0.0, 0.0, 0.0, 0.0, 0.0, 0.0, 0.0 };\n",
        "  double dx = (b - a) / (double)n;\n",
        "  doublev x0 = { a,      a+  dx, a+ 2*dx, a+ 3*dx, a+ 4*dx, a+ 5*dx, a+ 6*dx, a+ 7*dx };\n",
        "  doublev x1 = { a+8*dx, a+9*dx, a+10*dx, a+11*dx, a+12*dx, a+13*dx, a+14*dx, a+15*dx };\n",
        "  for (long i = 0; i < n; i += 16) {\n",
        "    s0 += x0 * x0;\n",
        "    s1 += x1 * x1;\n",
        "    x0 +=  16 * dx;\n",
        "    x1 +=  16 * dx;\n",
        "  }\n",
        "  doublev s = s0 + s1;\n",
        "  return (s[0] + s[1] + s[2] + s[3] + s[4] + s[5] + s[6] + s[7]) * dx;\n",
        "}\n",
        "\n",
        "int main(int argc, char ** argv) {\n",
        "  double a = (argc > 1 ? atof(argv[1]) : 0.0);\n",
        "  double b = (argc > 2 ? atof(argv[2]) : 1.0);\n",
        "  long n   = (argc > 3 ? atof(argv[3]) : 1000L * 1000L * 1000L);\n",
        "  double s = int_x2_simd_ilp(a, b, n);\n",
        "  printf(\"s = %f\\n\", s);\n",
        "  return 0;\n",
        "}"
      ],
      "execution_count": null,
      "outputs": []
    },
    {
      "cell_type": "code",
      "metadata": {
        "kernel": "Bash",
        "nbgrader": {
          "grade": false,
          "grade_id": "c-009",
          "locked": false,
          "schema_version": 3,
          "solution": false,
          "task": false
        }
      },
      "source": [
        "gcc -O3 -march=native int_x2_simd2.c -o int_x2_simd2"
      ],
      "execution_count": null,
      "outputs": []
    },
    {
      "cell_type": "code",
      "metadata": {
        "kernel": "Bash",
        "nbgrader": {
          "grade": false,
          "grade_id": "c-010",
          "locked": false,
          "schema_version": 3,
          "solution": false,
          "task": false
        }
      },
      "source": [
        "./int_x2_simd2"
      ],
      "execution_count": null,
      "outputs": []
    },
    {
      "cell_type": "markdown",
      "metadata": {
        "kernel": "SoS",
        "nbgrader": {
          "grade": false,
          "grade_id": "c-011",
          "locked": true,
          "schema_version": 3,
          "solution": false,
          "task": false
        }
      },
      "source": [
        "\n",
        "* SIMD化しただけのものと, 変数を二つ用いて命令レベル並列性を増加させたものの性能を比べる\n",
        ""
      ]
    },
    {
      "cell_type": "code",
      "metadata": {
        "kernel": "Bash",
        "nbgrader": {
          "grade": false,
          "grade_id": "c-012",
          "locked": false,
          "schema_version": 3,
          "solution": false,
          "task": false
        }
      },
      "source": [
        "time ./int_x2_simd"
      ],
      "execution_count": null,
      "outputs": []
    },
    {
      "cell_type": "code",
      "metadata": {
        "kernel": "Bash",
        "nbgrader": {
          "grade": false,
          "grade_id": "c-013",
          "locked": false,
          "schema_version": 3,
          "solution": false,
          "task": false
        }
      },
      "source": [
        "time ./int_x2_simd2"
      ],
      "execution_count": null,
      "outputs": []
    },
    {
      "cell_type": "markdown",
      "metadata": {
        "kernel": "SoS",
        "nbgrader": {
          "grade": false,
          "grade_id": "c-014",
          "locked": true,
          "schema_version": 3,
          "solution": false,
          "task": false
        }
      },
      "source": [
        "\n",
        "* ほぼ2倍になっている\n",
        "\n",
        "* ということはこの調子で変数を増やしていけばさらに性能が向上すると見込まれる\n",
        "* 変数が1つ増える度にいちいちプログラムを大幅に書き換えなくて済むようにしたものが以下\n",
        "* enum { nc = ... } の定義を書き換えるだけで変数の数を調節できる\n",
        ""
      ]
    },
    {
      "cell_type": "code",
      "metadata": {
        "kernel": "Python 3 (ipykernel)",
        "nbgrader": {
          "grade": false,
          "grade_id": "c-015",
          "locked": false,
          "schema_version": 3,
          "solution": false,
          "task": false
        }
      },
      "source": [
        "%%writefile int_x2_simd_nc.c\n",
        "#include <stdio.h>\n",
        "#include <stdlib.h>\n",
        "\n",
        "typedef double real;\n",
        "typedef real realv __attribute__((vector_size(64),aligned(sizeof(real))));\n",
        "\n",
        "enum { nl = sizeof(realv) / sizeof(real) };\n",
        "enum { nc = 4 };\n",
        "\n",
        "real int_x2_simd_nc(real a, real b, long n) {\n",
        "  realv s[nc];\n",
        "  realv x[nc];\n",
        "  real dx = (b - a) / (real)n;\n",
        "  for (long i = 0; i < nc; i++) {\n",
        "    for (long j = 0; j < nl; j++) {\n",
        "      s[i][j] = 0.0;\n",
        "    }\n",
        "  }\n",
        "  for (long i = 0; i < nc; i++) {\n",
        "    for (long j = 0; j < nl; j++) {\n",
        "      x[i][j] = a + (nl * i + j) * dx;\n",
        "    }\n",
        "  }\n",
        "  asm volatile(\"# ============= int_x2_simd_nc loop\");\n",
        "  for (long i = 0; i < n; i += nc * nl) {\n",
        "    for (long j = 0; j < nc; j++) {\n",
        "      s[j] += x[j] * x[j];\n",
        "      x[j] += nc * nl * dx;\n",
        "    }\n",
        "  }\n",
        "  asm volatile(\"# ------------- int_x2_simd_nc loop\");\n",
        "  realv ss = s[0];\n",
        "  for (long j = 1; j < nc; j++) {\n",
        "    ss += s[j];\n",
        "  }\n",
        "  real sss = ss[0];\n",
        "  for (long j = 1; j < nl; j++) {\n",
        "    sss += ss[j];\n",
        "  }\n",
        "  return sss * dx;\n",
        "}\n",
        "\n",
        "int main(int argc, char ** argv) {\n",
        "  real a = (argc > 1 ? atof(argv[1]) : 0.0);\n",
        "  real b = (argc > 2 ? atof(argv[2]) : 1.0);\n",
        "  long n   = (argc > 3 ? atof(argv[3]) : 1000L * 1000L * 1000L);\n",
        "  real s = int_x2_simd_nc(a, b, n);\n",
        "  printf(\"s = %f\\n\", s);\n",
        "  return 0;\n",
        "}"
      ],
      "execution_count": null,
      "outputs": []
    },
    {
      "cell_type": "code",
      "metadata": {
        "kernel": "Bash",
        "nbgrader": {
          "grade": false,
          "grade_id": "c-016",
          "locked": false,
          "schema_version": 3,
          "solution": false,
          "task": false
        }
      },
      "source": [
        "gcc -O3 -march=native int_x2_simd_nc.c -o int_x2_simd_nc"
      ],
      "execution_count": null,
      "outputs": []
    },
    {
      "cell_type": "code",
      "metadata": {
        "kernel": "Bash",
        "nbgrader": {
          "grade": false,
          "grade_id": "c-017",
          "locked": false,
          "schema_version": 3,
          "solution": false,
          "task": false
        }
      },
      "source": [
        "time ./int_x2_simd_nc"
      ],
      "execution_count": null,
      "outputs": []
    },
    {
      "cell_type": "markdown",
      "metadata": {
        "kernel": "SoS",
        "nbgrader": {
          "grade": false,
          "grade_id": "c-018",
          "locked": true,
          "schema_version": 3,
          "solution": false,
          "task": false
        }
      },
      "source": [
        "\n",
        "* nc=4 で生成されたアセンブリを覗いてみる"
      ]
    },
    {
      "cell_type": "code",
      "metadata": {
        "kernel": "Bash",
        "nbgrader": {
          "grade": false,
          "grade_id": "c-019",
          "locked": false,
          "schema_version": 3,
          "solution": false,
          "task": false
        }
      },
      "source": [
        "gcc -O3 -S -march=native int_x2_simd_nc.c\n",
        "cat int_x2_simd_nc.s"
      ],
      "execution_count": null,
      "outputs": []
    },
    {
      "cell_type": "markdown",
      "metadata": {
        "kernel": "SoS",
        "nbgrader": {
          "grade": false,
          "grade_id": "c-020",
          "locked": true,
          "schema_version": 3,
          "solution": false,
          "task": false
        }
      },
      "source": [
        "\n",
        "* 関係すると思われるところの抜粋\n",
        "* 一回の繰り返しの中で s += x * x から出てきたと思われる vfmadd 命令4つと, x += 32 * dx から出てきたと思われる vaddpd 命令4つが並んでいる. \n",
        "* 注目は vfmadd 命令で使われているのが別のレジスタである, つまり, 依存関係がないということ. vaddpd 間にも依存関係ない. したがって4つのvfmadd, 4つのvaddpdは並行して実行できる\n",
        "```\n",
        ".L3:\n",
        "        addq    $32, %rax\n",
        "        vfmadd231pd     %zmm5, %zmm5, %zmm9\n",
        "        vfmadd231pd     %zmm4, %zmm4, %zmm8\n",
        "        cmpq    %rdx, %rax\n",
        "        vfmadd231pd     %zmm3, %zmm3, %zmm7\n",
        "        vfmadd231pd     %zmm2, %zmm2, %zmm6\n",
        "        vaddpd  %zmm5, %zmm1, %zmm5\n",
        "        vaddpd  %zmm4, %zmm1, %zmm4\n",
        "        vaddpd  %zmm1, %zmm3, %zmm3\n",
        "        vaddpd  %zmm1, %zmm2, %zmm2\n",
        "        jne     .L3\n",
        "```\n",
        ""
      ]
    },
    {
      "cell_type": "markdown",
      "metadata": {
        "kernel": "SoS",
        "nbgrader": {
          "grade": false,
          "grade_id": "c-021",
          "locked": true,
          "schema_version": 3,
          "solution": false,
          "task": false
        }
      },
      "source": [
        "\n",
        "* C++であればテンプレートを使って, 同じプログラム中に複数のncを同居させることも簡単にできる"
      ]
    },
    {
      "cell_type": "code",
      "metadata": {
        "kernel": "Python 3 (ipykernel)",
        "nbgrader": {
          "grade": false,
          "grade_id": "c-022",
          "locked": false,
          "schema_version": 3,
          "solution": false,
          "task": false
        }
      },
      "source": [
        "%%writefile int_x2_simd_template.cc\n",
        "#include <stdio.h>\n",
        "#include <stdlib.h>\n",
        "\n",
        "typedef double real;\n",
        "typedef real realv __attribute__((vector_size(32),aligned(sizeof(real))));\n",
        "\n",
        "enum { nl = sizeof(realv) / sizeof(real) };\n",
        "\n",
        "template<int nc>\n",
        "real int_x2_simd_template(real a, real b, long n) {\n",
        "  realv s[nc];\n",
        "  realv x[nc];\n",
        "  real dx = (b - a) / (real)n;\n",
        "  real x_ = a;\n",
        "  for (long i = 0; i < nc; i++) {\n",
        "    for (long j = 0; j < nl; j++) {\n",
        "      s[i][j] = 0.0;\n",
        "    }\n",
        "  }\n",
        "  for (long i = 0; i < nc; i++) {\n",
        "    for (long j = 0; j < nl; j++) {\n",
        "      x[i][j] = a + (nl * i + j) * dx;\n",
        "    }\n",
        "  }\n",
        "  asm volatile(\"# ============= int_x2_simd_template loop\");\n",
        "  for (long i = 0; i < n; i += nc * nl) {\n",
        "    for (long j = 0; j < nc; j++) {\n",
        "      s[j] += x[j] * x[j];\n",
        "      x[j] += nc * nl * dx;\n",
        "    }\n",
        "  }\n",
        "  asm volatile(\"# ------------- int_x2_simd_template loop\");\n",
        "  realv ss = s[0];\n",
        "  for (long j = 1; j < nc; j++) {\n",
        "    ss += s[j];\n",
        "  }\n",
        "  real sss = ss[0];\n",
        "  for (long j = 1; j < nl; j++) {\n",
        "    sss += ss[j];\n",
        "  }\n",
        "  return sss * dx;\n",
        "}\n",
        "\n",
        "int main(int argc, char ** argv) {\n",
        "  real a = (argc > 1 ? atof(argv[1]) : 0.0);\n",
        "  real b = (argc > 2 ? atof(argv[2]) : 1.0);\n",
        "  long n   = (argc > 3 ? atof(argv[3]) : 1000L * 1000L * 1000L);\n",
        "  real s = int_x2_simd_template<4>(a, b, n);\n",
        "  printf(\"s = %f\\n\", s);\n",
        "  return 0;\n",
        "}"
      ],
      "execution_count": null,
      "outputs": []
    },
    {
      "cell_type": "code",
      "metadata": {
        "kernel": "Bash",
        "nbgrader": {
          "grade": false,
          "grade_id": "c-023",
          "locked": false,
          "schema_version": 3,
          "solution": false,
          "task": false
        }
      },
      "source": [
        "g++ -O3 -march=native int_x2_simd_template.cc -o int_x2_simd_template"
      ],
      "execution_count": null,
      "outputs": []
    },
    {
      "cell_type": "markdown",
      "metadata": {
        "kernel": "SoS",
        "nbgrader": {
          "grade": false,
          "grade_id": "c-024",
          "locked": true,
          "schema_version": 3,
          "solution": false,
          "task": false
        }
      },
      "source": [
        "\n",
        "* この性能がどのくらい限界に近いかを考察する\n",
        "* 復習: 限界性能 1 processor cycleにつき, SIMD化された浮動小数点命令(fmadd, mul, addなど)が2つ\n",
        " * ここで初めて明かした事実だが, addもmulもfmaddもどれも同じ1と数えられる\n",
        " * 1 processor cycleにつき, vfmadd x 2, vfmadd x 1 + mul x 1, vfmadd x 1 + add x 1, mul x 1 + add x 1 などどんな組み合わせも可能だが, vfmadd x 1 + mul x 1 + add x 1 とかはできない(演算量としては vfmadd 2 個分には違いないのだが)"
      ]
    },
    {
      "cell_type": "markdown",
      "metadata": {
        "kernel": "SoS",
        "nbgrader": {
          "grade": false,
          "grade_id": "c-025",
          "locked": true,
          "schema_version": 3,
          "solution": false,
          "task": false
        }
      },
      "source": [
        "<font color=\"blue\">on Oakbridge CX</font> "
      ]
    },
    {
      "cell_type": "code",
      "metadata": {
        "kernel": "Bash",
        "nbgrader": {
          "grade": false,
          "grade_id": "c-026",
          "locked": false,
          "schema_version": 3,
          "solution": false,
          "task": false
        }
      },
      "source": [
        "perf stat ./int_x2_simd_template"
      ],
      "execution_count": null,
      "outputs": []
    },
    {
      "cell_type": "markdown",
      "metadata": {
        "kernel": "SoS",
        "nbgrader": {
          "grade": false,
          "grade_id": "c-027",
          "locked": true,
          "schema_version": 3,
          "solution": false,
          "task": false
        }
      },
      "source": [
        "* 以下は(例によってこのページ上では失敗するので) Oakbridge CXでの結果\n",
        "\n",
        "```\n",
        "01jupyter$ perf stat ./int_x2_simd_nc\n",
        " Performance counter stats for './int_x2_simd_nc':\n",
        "\n",
        "             65.94 msec task-clock                #    0.979 CPUs utilized\n",
        "                 5      context-switches          #    0.076 K/sec\n",
        "                 1      cpu-migrations            #    0.015 K/sec\n",
        "               210      page-faults               #    0.003 M/sec\n",
        "       164,007,164      cycles                    #    2.487 GHz\n",
        "       350,799,322      instructions              #    2.14  insn per cycle\n",
        "\t32,562,169      branches                  #  493.838 M/sec\n",
        "            33,473      branch-misses             #    0.10% of all branches\n",
        "\n",
        "       0.067373817 seconds time elapsed\n",
        "\n",
        "       0.064476000 seconds user\n",
        "       0.002014000 seconds sys\n",
        "```\n",
        "\n",
        "* `164,007,164      cycles` をもとに, 1 cycle で何flops 実行されいてるかを計算する\n",
        "* 復習: 限界性能は, \n",
        "\n",
        "$$ 8 \\mbox{ (SIMD変数1つに収まるdouble型の数)} \\times 2 \\mbox{ (fmaddで2 flops)} \\times 2 \\mbox{ (1 cycleに実行可能なfmadd命令数)} = 32 \\mbox{ flops/cycle} $$\n",
        "\n",
        "* この計算全体では,\n",
        " * s += x * x  1回につき 2 flops\n",
        " * dx += ... 1回につき 1 flop\n",
        "だから 3 * 1000000000 flops 費やしている\n",
        "\n",
        "* よって1 cycleあたりのflops数は\n",
        "\n",
        "$$ 3 * 1000000000 / 164007164 = 18.2918... $$\n",
        "\n",
        "* 限界が32で, 得られているのが$\\approx$ 10. だいたい限界性能の57.1%\n",
        "\n",
        "* ところでこの計算においては原理的に75%までしか得られないことに注意. というのも fmadd と add を同数だけ実行する必要があり, プロセッサの限界は, fmadd, add, mul を(どれも1と数えて) 2 個/cycle なので.\n",
        "\n",
        "* それを考慮した(この計算における)限界 flops/cycle は \n",
        "\n",
        "$$ 16 + 8 = 24 \\mbox{flops/cycle} $$\n",
        "\n",
        "それと比較すると, 76%程度出ている\n",
        "\n",
        "* 同じことだが別の角度から, 「ループ一周に何サイクルかかっているか」を計算するのも有用である\n",
        "\n",
        "* 上記のループ `.L3: ... jg .LG` は一周につき vfmadd を5回実行しているため, 1000000000 の点に対して被積分関数(x * x)を計算するには, \n",
        "\n",
        "$$ 1000000000 / (5 * 8) = 25000000 $$\n",
        "\n",
        "周, 回っているはずである\n",
        "\n",
        "* それが 164,007,164 サイクルで実行できているというのだから, 1周回るのに,\n",
        "\n",
        "$$ 164007164 / 50000000 = 6.56 ... $$\n",
        "\n",
        "サイクルかかっている計算になる\n",
        "\n",
        "* 我々が望むことはこのループが1周につき(vfmaddの遅延である)4 cycleで回るということで, それがどうやら今は6.56 cycleとなっているらしい\n",
        "\n",
        "* 故に, 限界性能に対する性能は 4/6.56 =61%\n",
        "\n",
        "* 別の味方として, このループの実行に, どうやら期待よりも余分に2.5 cycleがかかっているようだということ. その原因はこれまで述べたことだけからは説明できないが, 少なくともこれ以上改善しようと思ったときのよい足がかりになる\n",
        "\n",
        "* なお, 上記で行った計算をする代わりにperfを使って値を見てしまうのも良い方法\n",
        "\n",
        "```\n",
        "t67005@obcx03:01jupyter$ perf stat -e cycles -e branches -e fp_arith_inst_retired.512b_packed_double ./int_x2_simd_nc  \n",
        "s = 0.333333\n",
        "\n",
        " Performance counter stats for './int_x2_simd_nc':\n",
        "\n",
        "        159,751,756      cycles\n",
        "         31,997,158      branches\n",
        "        375,000,003      fp_arith_inst_retired.512b_packed_double\n",
        "        \n",
        "       0.049367224 seconds time elapsed\n",
        "       0.047036000 seconds user\n",
        "       0.002001000 seconds sys\n",
        "```\n",
        "\n",
        "* branches がほぼループの繰り返し回数だと思って間違いない\n",
        "* ループ一周のサイクル数 = cycles / branches がほぼ5という事実が直ちに得られる\n",
        "* これとループ中の命令数 4 fmadd + 4 add から, 理想的な実行スループットは (4 + 4) / 2 = 4 cycles/周\n",
        "* よって理想的なcycle数に加え, 1 cycle 余分にかかっている\n",
        ""
      ]
    }
  ],
  "metadata": {
    "celltoolbar": "Create Assignment",
    "kernelspec": {
      "display_name": "SoS",
      "language": "sos",
      "name": "sos"
    },
    "language_info": {
      "codemirror_mode": "sos",
      "file_extension": ".sos",
      "mimetype": "text/x-sos",
      "name": "sos",
      "nbconvert_exporter": "sos_notebook.converter.SoS_Exporter",
      "pygments_lexer": "sos"
    },
    "sos": {
      "kernels": [
        [
          "Bash",
          "bash",
          "bash",
          "",
          "shell"
        ],
        [
          "C",
          "c_kernel",
          "c",
          "",
          ""
        ],
        [
          "Go",
          "gophernotes",
          "go",
          "",
          ""
        ],
        [
          "Julia 1.8.5",
          "julia-1.8",
          "julia",
          "",
          ""
        ],
        [
          "OCaml default",
          "ocaml-jupyter",
          "OCaml",
          "",
          "text/x-ocaml"
        ],
        [
          "Python 3 (ipykernel)",
          "python3",
          "python3",
          "",
          {
            "name": "ipython",
            "version": 3
          }
        ],
        [
          "Rust",
          "rust",
          "rust",
          "",
          ""
        ]
      ],
      "panel": {
        "displayed": true,
        "height": 0
      },
      "version": "0.23.3"
    }
  },
  "nbformat": 4,
  "nbformat_minor": 4
}