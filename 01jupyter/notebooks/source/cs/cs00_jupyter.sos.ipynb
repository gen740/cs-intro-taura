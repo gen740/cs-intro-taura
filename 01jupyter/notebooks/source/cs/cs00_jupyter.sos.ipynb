{
  "cells": [
    {
      "cell_type": "markdown",
      "metadata": {
        "kernel": "SoS",
        "nbgrader": {
          "grade": false,
          "grade_id": "c-001",
          "locked": true,
          "schema_version": 3,
          "solution": false,
          "task": false
        }
      },
      "source": [
        "\n",
        "#  計算科学概論 自習用環境",
        "\n",
        "* cs0x_xxxx.ipynb というファイルを順に開いて読みながら実行して下さい\n",
        "* ほとんどの部分は読んで理解して, Shift + Enterで実行してその結果を味わえば良いだけです\n",
        "* 所々にプログラミングを少しやってみようという課題が出てきます\n",
        ""
      ]
    },
    {
      "cell_type": "markdown",
      "metadata": {
        "kernel": "SoS",
        "nbgrader": {
          "grade": false,
          "grade_id": "c-002",
          "locked": true,
          "schema_version": 3,
          "solution": false,
          "task": false
        }
      },
      "source": [
        "\n",
        "# 1. このnotebookの使い方 / How this notebook works"
      ]
    },
    {
      "cell_type": "markdown",
      "metadata": {
        "kernel": "SoS",
        "nbgrader": {
          "grade": false,
          "grade_id": "c-003",
          "locked": true,
          "schema_version": 3,
          "solution": false,
          "task": false
        }
      },
      "source": [
        "\n",
        "## 1-1. Pythonプログラムのセル",
        "\n",
        "* SHIFT + Enter で実行\n",
        "\n",
        "\n",
        "* Execute by SHIFT + Enter\n",
        ""
      ]
    },
    {
      "cell_type": "code",
      "metadata": {
        "kernel": "Python 3 (ipykernel)",
        "nbgrader": {
          "grade": false,
          "grade_id": "c-004",
          "locked": false,
          "schema_version": 3,
          "solution": false,
          "task": false
        }
      },
      "source": [
        "# a Python cell\n",
        "def f(x):\n",
        "    return x + 1\n",
        "\n",
        "f(10)"
      ],
      "execution_count": null,
      "outputs": []
    },
    {
      "cell_type": "markdown",
      "metadata": {
        "kernel": "SoS",
        "nbgrader": {
          "grade": false,
          "grade_id": "c-005",
          "locked": true,
          "schema_version": 3,
          "solution": false,
          "task": false
        }
      },
      "source": [
        "## 1-2. Cプログラムのセル",
        "\n",
        "* `%%writefile ファイル名`  で始まる\n",
        "* Python のセルだがCプログラム(実際は任意の文字列)が書かれている\n",
        "* SHIFT + Enter で, 内容がファイルに保存される(実行はされない)\n",
        "\n",
        "\n",
        "* begins with `%%writefile filename`\n",
        "* it is a Python code cell, but in fact has a C program (any string, for that matter)\n",
        "* SHIFT + Enter saves the contents into the specified file (does not execute it)"
      ]
    },
    {
      "cell_type": "code",
      "metadata": {
        "kernel": "Python 3 (ipykernel)",
        "nbgrader": {
          "grade": false,
          "grade_id": "c-006",
          "locked": false,
          "schema_version": 3,
          "solution": false,
          "task": false
        }
      },
      "source": [
        "%%writefile hello.c\n",
        "/* a C cell */\n",
        "#include <stdio.h>\n",
        "int main() {\n",
        "    printf(\"hello\\n\");\n",
        "    return 0;\n",
        "}"
      ],
      "execution_count": null,
      "outputs": []
    },
    {
      "cell_type": "markdown",
      "metadata": {
        "kernel": "SoS",
        "nbgrader": {
          "grade": false,
          "grade_id": "c-007",
          "locked": true,
          "schema_version": 3,
          "solution": false,
          "task": false
        }
      },
      "source": [
        "## 1-3. bash (コマンド) のセル",
        "\n",
        "* Linuxのコマンドを実行できる\n",
        "* ただしバグがあって, 出力が正しく出ないことがある(おかしいなと思ったら何度か実行してみてください)\n",
        "\n",
        "\n",
        "* can run any Linux command\n",
        "* it seems to have a bug that drops the output (when in doubt, execute it again)\n",
        ""
      ]
    },
    {
      "cell_type": "code",
      "metadata": {
        "kernel": "Bash",
        "nbgrader": {
          "grade": false,
          "grade_id": "c-008",
          "locked": false,
          "schema_version": 3,
          "solution": false,
          "task": false
        }
      },
      "source": [
        "pwd"
      ],
      "execution_count": null,
      "outputs": []
    },
    {
      "cell_type": "code",
      "metadata": {
        "kernel": "Bash",
        "nbgrader": {
          "grade": false,
          "grade_id": "c-009",
          "locked": false,
          "schema_version": 3,
          "solution": false,
          "task": false
        }
      },
      "source": [
        "ls"
      ],
      "execution_count": null,
      "outputs": []
    },
    {
      "cell_type": "code",
      "metadata": {
        "kernel": "Bash",
        "nbgrader": {
          "grade": false,
          "grade_id": "c-010",
          "locked": false,
          "schema_version": 3,
          "solution": false,
          "task": false
        }
      },
      "source": [
        "gcc -o hello hello.c"
      ],
      "execution_count": null,
      "outputs": []
    },
    {
      "cell_type": "code",
      "metadata": {
        "kernel": "Bash",
        "nbgrader": {
          "grade": false,
          "grade_id": "c-011",
          "locked": false,
          "schema_version": 3,
          "solution": false,
          "task": false
        }
      },
      "source": [
        "./hello"
      ],
      "execution_count": null,
      "outputs": []
    },
    {
      "cell_type": "markdown",
      "metadata": {
        "kernel": "SoS",
        "nbgrader": {
          "grade": false,
          "grade_id": "c-012",
          "locked": true,
          "schema_version": 3,
          "solution": false,
          "task": false
        }
      },
      "source": [
        "\n",
        " * このようなテキストが表示されている部分もセルであり, クリックすることで編集可能になり, `Shift + Enter`で編集結果を表示できる.\n",
        ""
      ]
    },
    {
      "cell_type": "markdown",
      "metadata": {
        "kernel": "SoS",
        "nbgrader": {
          "grade": false,
          "grade_id": "c-013",
          "locked": false,
          "schema_version": 3,
          "solution": false,
          "task": false
        }
      },
      "source": [
        "\n",
        "**このセルを編集して, 名前と学生証番号を書け.**\n",
        "\n",
        " * 名前 Name : \n",
        " * 学生証番号 Student ID : \n",
        "\n",
        "**書けたら Shift + Enter で実行して入力を確定させよ**\n",
        ""
      ]
    },
    {
      "cell_type": "markdown",
      "metadata": {
        "kernel": "SoS",
        "nbgrader": {
          "grade": false,
          "grade_id": "c-014",
          "locked": true,
          "schema_version": 3,
          "solution": false,
          "task": false
        }
      },
      "source": [
        "\n",
        " * セルを編集したり実行したら**こまめに保存** (`Ctrl-S`) せよ\n",
        ""
      ]
    },
    {
      "cell_type": "markdown",
      "metadata": {
        "kernel": "SoS",
        "nbgrader": {
          "grade": false,
          "grade_id": "c-015",
          "locked": true,
          "schema_version": 3,
          "solution": false,
          "task": false
        }
      },
      "source": [
        "\n",
        "# 2. Jupyter notebookの目的",
        "\n",
        "* つまらないエラーと格闘しなくて良いようにほとんどのプログラムやコマンドを与えており, `Shift + Enter`を押していけば, どんなプログラムをコンパイルして実行すると, 何が起きるのかが学べるように作っている\n",
        "* ここで頭に入れたことを, (Jupyter環境を離れて) Oakbridge CX上で, 自力でコマンドを打って実践できるようになるのが演習のゴール\n",
        ""
      ]
    },
    {
      "cell_type": "markdown",
      "metadata": {
        "kernel": "SoS",
        "nbgrader": {
          "grade": false,
          "grade_id": "c-016",
          "locked": true,
          "schema_version": 3,
          "solution": false,
          "task": false
        }
      },
      "source": [
        "\n",
        "# 3. ロードマップ",
        "\n",
        "1. 機械語(アセンブリ言語), コンパイラの出力, をある程度理解できるようになる\n",
        "1. perfコマンドやライブラリで正確な性能測定が出来るようになる\n",
        "1. ベクタ型やベクタintrinsicsを使ってSIMD化ができる\n",
        "1. OpenMPでマルチコア並列化が出来る\n",
        ""
      ]
    }
  ],
  "metadata": {
    "celltoolbar": "Create Assignment",
    "kernelspec": {
      "display_name": "SoS",
      "language": "sos",
      "name": "sos"
    },
    "language_info": {
      "codemirror_mode": "sos",
      "file_extension": ".sos",
      "mimetype": "text/x-sos",
      "name": "sos",
      "nbconvert_exporter": "sos_notebook.converter.SoS_Exporter",
      "pygments_lexer": "sos"
    },
    "sos": {
      "kernels": [
        [
          "Bash",
          "bash",
          "bash",
          "",
          "shell"
        ],
        [
          "C",
          "c_kernel",
          "c",
          "",
          ""
        ],
        [
          "Go",
          "gophernotes",
          "go",
          "",
          ""
        ],
        [
          "Julia 1.8.5",
          "julia-1.8",
          "julia",
          "",
          ""
        ],
        [
          "OCaml default",
          "ocaml-jupyter",
          "OCaml",
          "",
          "text/x-ocaml"
        ],
        [
          "Python 3 (ipykernel)",
          "python3",
          "python3",
          "",
          {
            "name": "ipython",
            "version": 3
          }
        ],
        [
          "Rust",
          "rust",
          "rust",
          "",
          ""
        ]
      ],
      "panel": {
        "displayed": true,
        "height": 0
      },
      "version": "0.23.3"
    }
  },
  "nbformat": 4,
  "nbformat_minor": 4
}